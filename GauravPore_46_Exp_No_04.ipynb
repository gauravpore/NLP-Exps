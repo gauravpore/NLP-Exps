{
  "nbformat": 4,
  "nbformat_minor": 0,
  "metadata": {
    "colab": {
      "name": "SanketChavan_05_Exp_No_04.ipynb",
      "provenance": [],
      "collapsed_sections": []
    },
    "kernelspec": {
      "name": "python3",
      "display_name": "Python 3"
    },
    "language_info": {
      "name": "python"
    }
  },
  "cells": [
    {
      "cell_type": "markdown",
      "metadata": {
        "id": "NVFvr0yrouQN"
      },
      "source": [
        "#AIM: WRITE A PROGRAM TO GENERATE NEW WORDS BY USING INFLECTION AND DERIVATIONAL MORPHEME"
      ]
    },
    {
      "cell_type": "markdown",
      "metadata": {
        "id": "ZWvwrnsvqloJ"
      },
      "source": [
        "**Theory:** Morphology may be defined as the study of the composition of words using morphemes. A morpheme is the smallest unit of the language that has a meaning. In this article, we will discuss stemming and lemmatizing, creating a stemmer and lemmatizer for non-English languages, developing a morphological analyzer and morphological generator using machine learning tools, creating a search engine, and many other concepts\n",
        "\n",
        "# Morphemes can be divided into inflectional or derivational  morphemes"
      ]
    },
    {
      "cell_type": "markdown",
      "metadata": {
        "id": "uVfZKFE3acqL"
      },
      "source": [
        "## Inflectional Morphemes vs. Derivational Morphemes\n"
      ]
    },
    {
      "cell_type": "markdown",
      "metadata": {
        "id": "pQvbSHtEalS0"
      },
      "source": [
        "Inflectional morphemes define certain aspects pertaining to the grammatical function of a word. There are only eight inflectional morphemes in the English language—and they’re all suffixes. The two inflectional morphemes that can be added to nouns are -’s (apostrophe + s) to indicate the possessive case and -es to indicate the plural case. The four inflections that can be added to verbs are -(e)d to indicate past tense, -ing to indicate the present participle, -en, to represent the past participle, and –s, for the third person singular. The two inflections can be added to adjectives are: -er, for the comparative and -est"
      ]
    },
    {
      "cell_type": "markdown",
      "metadata": {
        "id": "LGO0c6IPn3VG"
      },
      "source": [
        "# **Inflectional morpheme**\n",
        "Inflectional morphemes change what a word does in terms of grammar, but does not create a new  word.\n",
        "For example, the word <skip> has many forms: skip (base form), skipping (present progressive), skipped (past tense).\n",
        "The inflectional morphemes -ing and -ed are added to the base word skip, to indicate the tense of the  word.\n",
        "If a word has an inflectional morpheme, it is still the same word, with a few suffixes added. So if you looked up <skip> in the dictionary, then only the base word <skip> would get its own entry into the dictionary. Skipping and skipped are  listed under skip, as they are inflections of the base word. Skipping and skipped do not get their own dictionary   entry.\n",
        "\n",
        "\n"
      ]
    },
    {
      "cell_type": "markdown",
      "metadata": {
        "id": "IFWr0O3hbAkx"
      },
      "source": [
        "Examples of Inflectional Morphemes\n",
        "Inflectional morphemes are suffixes that get added to a word, thus, adding a grammatical value to it. It can assign a tense, a number, a comparison, or a possession. Here are some examples of inflectional morphemes.\n",
        "\n",
        "Plural: Bikes, Cars, Trucks, Lions, Monkeys, Buses, Matches, Classes\n",
        "Possessive: Boy’s, Girl’s, Man’s, Mark’s, Robert’s, Samantha’s, Teacher’s, Officer’s\n",
        "Tense: cooked, played, marked, waited, watched, roasted, grilled; sang, drank, drove  \n",
        "Comparison: Faster, Slower, Quicker, Taller, Higher, Shorter, Smaller, Weaker, Stronger, Sharper, Bigger\n",
        "Superlative: Fastest, Slowest, Quickest, Tallest, Highest, Shortest, Smallest, Biggest, Weakest, Strongest, Sharpest"
      ]
    },
    {
      "cell_type": "markdown",
      "metadata": {
        "id": "Kutxs92-axzc"
      },
      "source": [
        "# **Derivational morphemese**\n",
        "Derivational morphemes are used to make new words by changing their meaning or different grammatical category. In other words, derivational morphemes form new words with a meaning and category distinct through the addition of affixes.\n",
        "\n",
        "\n"
      ]
    },
    {
      "cell_type": "markdown",
      "metadata": {
        "id": "7oNspythbFp3"
      },
      "source": [
        "Examples of Derivational Morphemes\n",
        "Derivational morphemes are the morphemes that change the part of speech of the word. For example, wonder-wonderful. It changes a word into an adjective. The word after we add a derivational morpheme in it can be called as a derivate. Here are some examples of derivational morphemes.\n",
        "\n",
        "Ful: Beautiful, Wonderful, Cheerful, Truthful, Tasteful, Flavourful, Joyful\n",
        "Able: Walkable, Understandable, Loveable, Laughable, Eatable\n",
        "Ment: Government, Establishment, Agreement\n",
        "Ness: Kindness, Truthfulness, Carelessness, Sadness\n",
        "Ly: Happily, Kindly, Fortunately, Sadly, Lively"
      ]
    },
    {
      "cell_type": "markdown",
      "metadata": {
        "id": "n9ku-VOorX2t"
      },
      "source": [
        "# **EXECUTION :** \n"
      ]
    },
    {
      "cell_type": "code",
      "metadata": {
        "colab": {
          "base_uri": "https://localhost:8080/"
        },
        "id": "XhYdPasHPob2",
        "outputId": "b9cfe81b-967c-4749-c1ac-3130353204dc"
      },
      "source": [
        "from nltk.stem import LancasterStemmer\n",
        "from nltk.stem import PorterStemmer\n",
        "#A list of words to be stemmed\n",
        "stemmerlan=LancasterStemmer()\n",
        "stemmerporter = PorterStemmer()\n",
        "word_list = [\"friend\", \"friendship\", \"friends\", \"friendships\",\"stabil\",\"destabilize\",\"misunderstanding\",\"railroad\",\"moonlight\",\"football\",\"Understandable\",\"walked\"]\n",
        "print(\"{0:20}{1:20}{2:20}\".format(\"Word\",\"Porter Stemmer\",\"lancaster Stemmer\"))\n",
        "for word in word_list:\n",
        "    print(\"{0:20}{1:20}{2:20}\".format(word, stemmerporter.stem(word), stemmerlan.stem(word)))"
      ],
      "execution_count": null,
      "outputs": [
        {
          "output_type": "stream",
          "text": [
            "Word                Porter Stemmer      lancaster Stemmer   \n",
            "friend              friend              friend              \n",
            "friendship          friendship          friend              \n",
            "friends             friend              friend              \n",
            "friendships         friendship          friend              \n",
            "stabil              stabil              stabl               \n",
            "destabilize         destabil            dest                \n",
            "misunderstanding    misunderstand       misunderstand       \n",
            "railroad            railroad            railroad            \n",
            "moonlight           moonlight           moonlight           \n",
            "football            footbal             footbal             \n",
            "Understandable      understand          understand          \n",
            "walked              walk                walk                \n"
          ],
          "name": "stdout"
        }
      ]
    },
    {
      "cell_type": "code",
      "metadata": {
        "id": "EoRc_t41Pv3_"
      },
      "source": [
        "text = \"This is my test text. We're keeping this text short to keep things manageable.\"\n",
        "text = text.lower()"
      ],
      "execution_count": null,
      "outputs": []
    },
    {
      "cell_type": "code",
      "metadata": {
        "id": "tj3p3SEsQZFA"
      },
      "source": [
        "from collections import Counter \n",
        "  \n",
        "# counts word frequency\n",
        "def count_words(text):                  \n",
        "    skips = [\".\", \", \", \":\", \";\", \"'\", '\"'] \n",
        "    for ch in skips: \n",
        "        text = text.replace(ch, \"\") \n",
        "    word_counts = {} \n",
        "    for word in text.split(\" \"): \n",
        "        if word in word_counts: \n",
        "            word_counts[word]+= 1 \n",
        "        else: \n",
        "            word_counts[word]= 1 \n",
        "    return word_counts \n",
        "  \n",
        "    # >>>count_words(text) You can check the function \n",
        "  \n",
        "# counts word frequency using\n",
        "# Counter from collections \n",
        "def count_words_fast(text):     \n",
        "    text = text.lower() \n",
        "    skips = [\".\", \", \", \":\", \";\", \"'\", '\"'] \n",
        "    for ch in skips: \n",
        "        text = text.replace(ch, \"\") \n",
        "    word_counts = Counter(text.split(\" \")) \n",
        "    return word_counts \n",
        "  \n",
        "    # >>>count_words_fast(text) You can check the function "
      ],
      "execution_count": null,
      "outputs": []
    },
    {
      "cell_type": "code",
      "metadata": {
        "colab": {
          "base_uri": "https://localhost:8080/"
        },
        "id": "rFFtDr1QSb4G",
        "outputId": "4776742a-9251-4aec-cb15-ddbc36946b7a"
      },
      "source": [
        "count_words_fast(text)"
      ],
      "execution_count": null,
      "outputs": [
        {
          "output_type": "execute_result",
          "data": {
            "text/plain": [
              "Counter({'is': 1,\n",
              "         'keep': 1,\n",
              "         'keeping': 1,\n",
              "         'manageable': 1,\n",
              "         'my': 1,\n",
              "         'short': 1,\n",
              "         'test': 1,\n",
              "         'text': 2,\n",
              "         'things': 1,\n",
              "         'this': 2,\n",
              "         'to': 1,\n",
              "         'were': 1})"
            ]
          },
          "metadata": {
            "tags": []
          },
          "execution_count": 22
        }
      ]
    },
    {
      "cell_type": "code",
      "metadata": {
        "colab": {
          "base_uri": "https://localhost:8080/"
        },
        "id": "ezEn-i0_STOY",
        "outputId": "d71c4cde-f8f4-4fce-f250-35efe84852ad"
      },
      "source": [
        "count_words(text)"
      ],
      "execution_count": null,
      "outputs": [
        {
          "output_type": "execute_result",
          "data": {
            "text/plain": [
              "{'is': 1,\n",
              " 'keep': 1,\n",
              " 'keeping': 1,\n",
              " 'manageable': 1,\n",
              " 'my': 1,\n",
              " 'short': 1,\n",
              " 'test': 1,\n",
              " 'text': 2,\n",
              " 'things': 1,\n",
              " 'this': 2,\n",
              " 'to': 1,\n",
              " 'were': 1}"
            ]
          },
          "metadata": {
            "tags": []
          },
          "execution_count": 21
        }
      ]
    },
    {
      "cell_type": "code",
      "metadata": {
        "id": "63YUT6y4QfQR"
      },
      "source": [
        "#read a book and return it as a string\n",
        "def read_book(title_path):  \n",
        "    with open('/content/drive/MyDrive/Colab Notebooks/Sample_text.txt', \"r\", encoding =\"utf8\") as current_file:\n",
        "        text = current_file.read()\n",
        "        text = text.replace(\"\\n\", \"\").replace(\"\\r\", \"\")\n",
        "    return text"
      ],
      "execution_count": null,
      "outputs": []
    },
    {
      "cell_type": "code",
      "metadata": {
        "colab": {
          "base_uri": "https://localhost:8080/",
          "height": 132
        },
        "id": "VPNLarbJS6as",
        "outputId": "df76e7ca-813d-47e7-c7c5-0a7567c8942a"
      },
      "source": [
        "read_book('/content/drive/MyDrive/Colab Notebooks/Sample_text.txt')"
      ],
      "execution_count": null,
      "outputs": [
        {
          "output_type": "execute_result",
          "data": {
            "application/vnd.google.colaboratory.intrinsic+json": {
              "type": "string"
            },
            "text/plain": [
              "'The Natural Language Toolkit (NLTK) is a platform used for building Python programs that work with human language data for applying in statistical natural language processing (NLP).It contains text processing libraries for tokenization, parsing, classification, stemming, tagging and semantic reasoning. It also includes graphical demonstrations and sample data sets as well as accompanied by a cook book and a book which explains the principles behind the underlying language processing tasks that NLTK supports.The Natural Language Toolkit is an open source library for the Python programming language originally written by Steven Bird, Edward Loper and Ewan Klein for use in development and education.It comes with a hands-on guide that introduces topics in computational linguistics as well as programming fundamentals for Python which makes it suitable for linguists who have no deep knowledge in programming, engineers and researchers that need to delve into computational linguistics, students and educators.NLTK includes more than 50 corpora and lexical sources such as the Penn Treebank Corpus, Open Multilingual Wordnet, Problem Report Corpus, and Lin’s Dependency Thesaurus.'"
            ]
          },
          "metadata": {
            "tags": []
          },
          "execution_count": 26
        }
      ]
    },
    {
      "cell_type": "code",
      "metadata": {
        "id": "96fvNkJOQsbT"
      },
      "source": [
        "word_counts = count_words_fast(text)\n",
        "def word_stats(word_counts):      \n",
        "    num_unique = len(word_counts) \n",
        "    counts = word_counts.values() \n",
        "    return (num_unique, counts) "
      ],
      "execution_count": null,
      "outputs": []
    },
    {
      "cell_type": "code",
      "metadata": {
        "colab": {
          "base_uri": "https://localhost:8080/"
        },
        "id": "b70cTryYTxRo",
        "outputId": "82b8ab2d-5d7c-4f83-cedf-571b381dc37d"
      },
      "source": [
        "word_stats(word_counts)"
      ],
      "execution_count": null,
      "outputs": [
        {
          "output_type": "execute_result",
          "data": {
            "text/plain": [
              "(107,\n",
              " dict_values([5, 3, 6, 2, 1, 2, 4, 1, 1, 7, 1, 3, 1, 4, 1, 2, 1, 2, 1, 4, 1, 3, 1, 1, 1, 1, 1, 8, 1, 1, 2, 1, 2, 1, 1, 1, 1, 5, 2, 1, 2, 1, 2, 2, 1, 1, 1, 1, 1, 1, 1, 1, 1, 1, 1, 2, 1, 1, 1, 1, 1, 1, 1, 1, 1, 1, 1, 1, 1, 1, 1, 2, 1, 1, 1, 1, 1, 1, 1, 1, 1, 1, 1, 1, 1, 1, 1, 1, 1, 1, 1, 1, 1, 1, 1, 1, 1, 1, 1, 1, 1, 1, 1, 1, 1, 1, 1]))"
            ]
          },
          "metadata": {
            "tags": []
          },
          "execution_count": 34
        }
      ]
    },
    {
      "cell_type": "code",
      "metadata": {
        "colab": {
          "base_uri": "https://localhost:8080/"
        },
        "id": "z4UWqPeEQyGu",
        "outputId": "5b6a6418-8275-43e9-d2bb-c151e52edca4"
      },
      "source": [
        "text = read_book(\"./Books / English / shakespeare / Romeo and Juliet.txt\")\n",
        "  \n",
        "word_counts = count_words_fast(text)         \n",
        "(num_unique, counts) = word_stats(word_counts)\n",
        "print(num_unique, sum(counts)) "
      ],
      "execution_count": null,
      "outputs": [
        {
          "output_type": "stream",
          "text": [
            "107 160\n"
          ],
          "name": "stdout"
        }
      ]
    },
    {
      "cell_type": "markdown",
      "metadata": {
        "id": "MqG9-RHsrRxs"
      },
      "source": [
        "# **OUTPUT**\n",
        "![Capture.JPG](data:image/jpeg;base64,/9j/4AAQSkZJRgABAQEAeAB4AAD/4RD0RXhpZgAATU0AKgAAAAgABAE7AAIAAAAOAAAISodpAAQAAAABAAAIWJydAAEAAAAcAAAQ0OocAAcAAAgMAAAAPgAAAAAc6gAAAAgAAAAAAAAAAAAAAAAAAAAAAAAAAAAAAAAAAAAAAAAAAAAAAAAAAAAAAAAAAAAAAAAAAAAAAAAAAAAAAAAAAAAAAAAAAAAAAAAAAAAAAAAAAAAAAAAAAAAAAAAAAAAAAAAAAAAAAAAAAAAAAAAAAAAAAAAAAAAAAAAAAAAAAAAAAAAAAAAAAAAAAAAAAAAAAAAAAAAAAAAAAAAAAAAAAAAAAAAAAAAAAAAAAAAAAAAAAAAAAAAAAAAAAAAAAAAAAAAAAAAAAAAAAAAAAAAAAAAAAAAAAAAAAAAAAAAAAAAAAAAAAAAAAAAAAAAAAAAAAAAAAAAAAAAAAAAAAAAAAAAAAAAAAAAAAAAAAAAAAAAAAAAAAAAAAAAAAAAAAAAAAAAAAAAAAAAAAAAAAAAAAAAAAAAAAAAAAAAAAAAAAAAAAAAAAAAAAAAAAAAAAAAAAAAAAAAAAAAAAAAAAAAAAAAAAAAAAAAAAAAAAAAAAAAAAAAAAAAAAAAAAAAAAAAAAAAAAAAAAAAAAAAAAAAAAAAAAAAAAAAAAAAAAAAAAAAAAAAAAAAAAAAAAAAAAAAAAAAAAAAAAAAAAAAAAAAAAAAAAAAAAAAAAAAAAAAAAAAAAAAAAAAAAAAAAAAAAAAAAAAAAAAAAAAAAAAAAAAAAAAAAAAAAAAAAAAAAAAAAAAAAAAAAAAAAAAAAAAAAAAAAAAAAAAAAAAAAAAAAAAAAAAAAAAAAAAAAAAAAAAAAAAAAAAAAAAAAAAAAAAAAAAAAAAAAAAAAAAAAAAAAAAAAAAAAAAAAAAAAAAAAAAAAAAAAAAAAAAAAAAAAAAAAAAAAAAAAAAAAAAAAAAAAAAAAAAAAAAAAAAAAAAAAAAAAAAAAAAAAAAAAAAAAAAAAAAAAAAAAAAAAAAAAAAAAAAAAAAAAAAAAAAAAAAAAAAAAAAAAAAAAAAAAAAAAAAAAAAAAAAAAAAAAAAAAAAAAAAAAAAAAAAAAAAAAAAAAAAAAAAAAAAAAAAAAAAAAAAAAAAAAAAAAAAAAAAAAAAAAAAAAAAAAAAAAAAAAAAAAAAAAAAAAAAAAAAAAAAAAAAAAAAAAAAAAAAAAAAAAAAAAAAAAAAAAAAAAAAAAAAAAAAAAAAAAAAAAAAAAAAAAAAAAAAAAAAAAAAAAAAAAAAAAAAAAAAAAAAAAAAAAAAAAAAAAAAAAAAAAAAAAAAAAAAAAAAAAAAAAAAAAAAAAAAAAAAAAAAAAAAAAAAAAAAAAAAAAAAAAAAAAAAAAAAAAAAAAAAAAAAAAAAAAAAAAAAAAAAAAAAAAAAAAAAAAAAAAAAAAAAAAAAAAAAAAAAAAAAAAAAAAAAAAAAAAAAAAAAAAAAAAAAAAAAAAAAAAAAAAAAAAAAAAAAAAAAAAAAAAAAAAAAAAAAAAAAAAAAAAAAAAAAAAAAAAAAAAAAAAAAAAAAAAAAAAAAAAAAAAAAAAAAAAAAAAAAAAAAAAAAAAAAAAAAAAAAAAAAAAAAAAAAAAAAAAAAAAAAAAAAAAAAAAAAAAAAAAAAAAAAAAAAAAAAAAAAAAAAAAAAAAAAAAAAAAAAAAAAAAAAAAAAAAAAAAAAAAAAAAAAAAAAAAAAAAAAAAAAAAAAAAAAAAAAAAAAAAAAAAAAAAAAAAAAAAAAAAAAAAAAAAAAAAAAAAAAAAAAAAAAAAAAAAAAAAAAAAAAAAAAAAAAAAAAAAAAAAAAAAAAAAAAAAAAAAAAAAAAAAAAAAAAAAAAAAAAAAAAAAAAAAAAAAAAAAAAAAAAAAAAAAAAAAAAAAAAAAAAAAAAAAAAAAAAAAAAAAAAAAAAAAAAAAAAAAAAAAAAAAAAAAAAAAAAAAAAAAAAAAAAAAAAAAAAAAAAAAAAAAAAAAAAAAAAAAAAAAAAAAAAAAAAAAAAAAAAAAAAAAAAAAAAAAAAAAAAAAAAAAAAAAAAAAAAAAAAAAAAAAAAAAAAAAAAAAAAAAAAAAAAAAAAAAAAAAAAAAAAAAAAAAAAAAAAAAAAAAAAAAAAAAAAAAAAAAAAAAAAAAAAAAAAAAAAAAAAAAAAAAAAAAAAAAAAAAAAAAAAAAAAAAAAAAAAAAAAAAAAAAAAAAAAAAAAAAAAAAAAAAAAAAAAAAAAAAAAAAAAAAAAAAAAAAAAAAAAAAAAAAAAAAAAAAAAAAAAAAAAAAAAAAAAAAAAAAAAAAAAAAAAAAAAAAAAAAAAAAAAAAAAAAAAAAAAAAAAAAAAAAAAAAAAAAAAAAAAAAAAAAAAAAAAAAAAAAAAAAAAAAAAAAAAAAAAAAAAAAAAAAAAAAAAAAAAAAAAAAAAAAAAAAAAAAAAAAAAAAAAAAAAAAAAAAAAAAAAAAAAAAAAAAAAAAAAAAAAAAAAAAAAAAAAAAAAAAAAAAAAAAAAAAAAAAAAAAAAAAAAAAAAAAAAAAAAAAAAAAAAAAAAAAAAAAAAAAAAAAAAAAAAAAAAAAAAAAAAAAAAAAAAAAAAAAAAAAAAAAAAAAAAAAAAAAAAAAAAAAAAAAAAAAAAAAAAAAAAAAAAAAAAAAAAAAAAAAAAAAAAAAAAAAAAAAAAAAAAAAAAAAAAAAAAAAAAAAAAAAAAAAAAAAAAAAAAAAAAAAAAAAAAAAAAAAAAAAAAAAAAAAAAAAAAAAAAAAAAAAAAAAAAAAAAAAAAAAAAAAAAAAAAAAAAAAAAAAAAAAAAAAAAAAAAAAAAAAAAAAAAAAAAAAAAAAAAAAAAAAAAAAEFkbWluaXN0cmF0b3IAAAWQAwACAAAAFAAAEKaQBAACAAAAFAAAELqSkQACAAAAAzg1AACSkgACAAAAAzg1AADqHAAHAAAIDAAACJoAAAAAHOoAAAAIAAAAAAAAAAAAAAAAAAAAAAAAAAAAAAAAAAAAAAAAAAAAAAAAAAAAAAAAAAAAAAAAAAAAAAAAAAAAAAAAAAAAAAAAAAAAAAAAAAAAAAAAAAAAAAAAAAAAAAAAAAAAAAAAAAAAAAAAAAAAAAAAAAAAAAAAAAAAAAAAAAAAAAAAAAAAAAAAAAAAAAAAAAAAAAAAAAAAAAAAAAAAAAAAAAAAAAAAAAAAAAAAAAAAAAAAAAAAAAAAAAAAAAAAAAAAAAAAAAAAAAAAAAAAAAAAAAAAAAAAAAAAAAAAAAAAAAAAAAAAAAAAAAAAAAAAAAAAAAAAAAAAAAAAAAAAAAAAAAAAAAAAAAAAAAAAAAAAAAAAAAAAAAAAAAAAAAAAAAAAAAAAAAAAAAAAAAAAAAAAAAAAAAAAAAAAAAAAAAAAAAAAAAAAAAAAAAAAAAAAAAAAAAAAAAAAAAAAAAAAAAAAAAAAAAAAAAAAAAAAAAAAAAAAAAAAAAAAAAAAAAAAAAAAAAAAAAAAAAAAAAAAAAAAAAAAAAAAAAAAAAAAAAAAAAAAAAAAAAAAAAAAAAAAAAAAAAAAAAAAAAAAAAAAAAAAAAAAAAAAAAAAAAAAAAAAAAAAAAAAAAAAAAAAAAAAAAAAAAAAAAAAAAAAAAAAAAAAAAAAAAAAAAAAAAAAAAAAAAAAAAAAAAAAAAAAAAAAAAAAAAAAAAAAAAAAAAAAAAAAAAAAAAAAAAAAAAAAAAAAAAAAAAAAAAAAAAAAAAAAAAAAAAAAAAAAAAAAAAAAAAAAAAAAAAAAAAAAAAAAAAAAAAAAAAAAAAAAAAAAAAAAAAAAAAAAAAAAAAAAAAAAAAAAAAAAAAAAAAAAAAAAAAAAAAAAAAAAAAAAAAAAAAAAAAAAAAAAAAAAAAAAAAAAAAAAAAAAAAAAAAAAAAAAAAAAAAAAAAAAAAAAAAAAAAAAAAAAAAAAAAAAAAAAAAAAAAAAAAAAAAAAAAAAAAAAAAAAAAAAAAAAAAAAAAAAAAAAAAAAAAAAAAAAAAAAAAAAAAAAAAAAAAAAAAAAAAAAAAAAAAAAAAAAAAAAAAAAAAAAAAAAAAAAAAAAAAAAAAAAAAAAAAAAAAAAAAAAAAAAAAAAAAAAAAAAAAAAAAAAAAAAAAAAAAAAAAAAAAAAAAAAAAAAAAAAAAAAAAAAAAAAAAAAAAAAAAAAAAAAAAAAAAAAAAAAAAAAAAAAAAAAAAAAAAAAAAAAAAAAAAAAAAAAAAAAAAAAAAAAAAAAAAAAAAAAAAAAAAAAAAAAAAAAAAAAAAAAAAAAAAAAAAAAAAAAAAAAAAAAAAAAAAAAAAAAAAAAAAAAAAAAAAAAAAAAAAAAAAAAAAAAAAAAAAAAAAAAAAAAAAAAAAAAAAAAAAAAAAAAAAAAAAAAAAAAAAAAAAAAAAAAAAAAAAAAAAAAAAAAAAAAAAAAAAAAAAAAAAAAAAAAAAAAAAAAAAAAAAAAAAAAAAAAAAAAAAAAAAAAAAAAAAAAAAAAAAAAAAAAAAAAAAAAAAAAAAAAAAAAAAAAAAAAAAAAAAAAAAAAAAAAAAAAAAAAAAAAAAAAAAAAAAAAAAAAAAAAAAAAAAAAAAAAAAAAAAAAAAAAAAAAAAAAAAAAAAAAAAAAAAAAAAAAAAAAAAAAAAAAAAAAAAAAAAAAAAAAAAAAAAAAAAAAAAAAAAAAAAAAAAAAAAAAAAAAAAAAAAAAAAAAAAAAAAAAAAAAAAAAAAAAAAAAAAAAAAAAAAAAAAAAAAAAAAAAAAAAAAAAAAAAAAAAAAAAAAAAAAAAAAAAAAAAAAAAAAAAAAAAAAAAAAAAAAAAAAAAAAAAAAAAAAAAAAAAAAAAAAAAAAAAAAAAAAAAAAAAAAAAAAAAAAAAAAAAAAAAAAAAAAAAAAAAAAAAAAAAAAAAAAAAAAAAAAAAAAAAAAAAAAAAAAAAAAAAAAAAAAAAAAAAAAAAAAAAAAAAAAAAAAAAAAAAAAAAAAAAAAAAAAAAAAAAAAAAAAAAAAAAAAAAAAAAAAAAAAAAAAAAAAAAAAAAAAAAAAAAAAAAAAAAAAAAAAAAAAAAAAAAAAAAAAAAAAAAAAAAAAAAAAAAAAAAAAAAAAAAAAAAAAAAAAAAAAAAAAAAAAAAAAAAAAAAAAAAAAAAAAAAAAAAAAAAAAAAAAAAAAAAAAAAAAAAAAAAAAAAAAAAAAAAAAAAAAAAAAAAAAAAAAAAAAAAAAAAAAAAAAAAAAAAAAAAAAAAAAAAAAAAAAAAAAAAAAAAAAAAAAAAAAAAAAAAAAAAAAAAAAAAAAAAAAAAAAAAAAAAAAAAAAAAAAAAAAAAAAAAAAAAAAAAAAAAAAAAAAAAAAAAAAAAAAAAAAAAAAAAAAAAAAAAAAAAAAAAAAAAAAAAAAAAAAAAAAAAAAAAAAAAAAAAAAAAAAAAAAAAAAAAAAAAAAAAAAAAAAAAAAAAAAAAAAAAAAAAAAAAAAAAAAAAAAAAAAAAAAAAAAAAAAAAAAAAAAAAAAAAAAAAAAAAAAAAAAAAAAAAAAAAAAAAAAAAAAAAAAAAAAAAAAAAAAAAAAAAAAAAAAAAAAAAAAAAAAAAAAAAAAAAAAAAAAAAAAAAAAAAAAAAAAAAAAAAAAAAAAAAAAAAAAAAAAAAAAAAAAAAAAAAAAAAAAAAAAAAAAAAAAAAAAAAAAAAAAAAAAAAAAAAAAAAAAAAAAAAAAAAAAAAAAAAAAAAAAAAAAAAAAAyMDIxOjA0OjA4IDAwOjMyOjE1ADIwMjE6MDQ6MDggMDA6MzI6MTUAAABBAGQAbQBpAG4AaQBzAHQAcgBhAHQAbwByAAAA/+ELIGh0dHA6Ly9ucy5hZG9iZS5jb20veGFwLzEuMC8APD94cGFja2V0IGJlZ2luPSfvu78nIGlkPSdXNU0wTXBDZWhpSHpyZVN6TlRjemtjOWQnPz4NCjx4OnhtcG1ldGEgeG1sbnM6eD0iYWRvYmU6bnM6bWV0YS8iPjxyZGY6UkRGIHhtbG5zOnJkZj0iaHR0cDovL3d3dy53My5vcmcvMTk5OS8wMi8yMi1yZGYtc3ludGF4LW5zIyI+PHJkZjpEZXNjcmlwdGlvbiByZGY6YWJvdXQ9InV1aWQ6ZmFmNWJkZDUtYmEzZC0xMWRhLWFkMzEtZDMzZDc1MTgyZjFiIiB4bWxuczpkYz0iaHR0cDovL3B1cmwub3JnL2RjL2VsZW1lbnRzLzEuMS8iLz48cmRmOkRlc2NyaXB0aW9uIHJkZjphYm91dD0idXVpZDpmYWY1YmRkNS1iYTNkLTExZGEtYWQzMS1kMzNkNzUxODJmMWIiIHhtbG5zOnhtcD0iaHR0cDovL25zLmFkb2JlLmNvbS94YXAvMS4wLyI+PHhtcDpDcmVhdGVEYXRlPjIwMjEtMDQtMDhUMDA6MzI6MTUuODQ4PC94bXA6Q3JlYXRlRGF0ZT48L3JkZjpEZXNjcmlwdGlvbj48cmRmOkRlc2NyaXB0aW9uIHJkZjphYm91dD0idXVpZDpmYWY1YmRkNS1iYTNkLTExZGEtYWQzMS1kMzNkNzUxODJmMWIiIHhtbG5zOmRjPSJodHRwOi8vcHVybC5vcmcvZGMvZWxlbWVudHMvMS4xLyI+PGRjOmNyZWF0b3I+PHJkZjpTZXEgeG1sbnM6cmRmPSJodHRwOi8vd3d3LnczLm9yZy8xOTk5LzAyLzIyLXJkZi1zeW50YXgtbnMjIj48cmRmOmxpPkFkbWluaXN0cmF0b3I8L3JkZjpsaT48L3JkZjpTZXE+DQoJCQk8L2RjOmNyZWF0b3I+PC9yZGY6RGVzY3JpcHRpb24+PC9yZGY6UkRGPjwveDp4bXBtZXRhPg0KICAgICAgICAgICAgICAgICAgICAgICAgICAgICAgICAgICAgICAgICAgICAgICAgICAgICAgICAgICAgICAgICAgICAgICAgICAgICAgICAgICAgICAgICAgICAgICAgICAgIAogICAgICAgICAgICAgICAgICAgICAgICAgICAgICAgICAgICAgICAgICAgICAgICAgICAgICAgICAgICAgICAgICAgICAgICAgICAgICAgICAgICAgICAgICAgICAgICAgICAgCiAgICAgICAgICAgICAgICAgICAgICAgICAgICAgICAgICAgICAgICAgICAgICAgICAgICAgICAgICAgICAgICAgICAgICAgICAgICAgICAgICAgICAgICAgICAgICAgICAgICAKICAgICAgICAgICAgICAgICAgICAgICAgICAgICAgICAgICAgICAgICAgICAgICAgICAgICAgICAgICAgICAgICAgICAgICAgICAgICAgICAgICAgICAgICAgICAgICAgICAgIAogICAgICAgICAgICAgICAgICAgICAgICAgICAgICAgICAgICAgICAgICAgICAgICAgICAgICAgICAgICAgICAgICAgICAgICAgICAgICAgICAgICAgICAgICAgICAgICAgICAgCiAgICAgICAgICAgICAgICAgICAgICAgICAgICAgICAgICAgICAgICAgICAgICAgICAgICAgICAgICAgICAgICAgICAgICAgICAgICAgICAgICAgICAgICAgICAgICAgICAgICAKICAgICAgICAgICAgICAgICAgICAgICAgICAgICAgICAgICAgICAgICAgICAgICAgICAgICAgICAgICAgICAgICAgICAgICAgICAgICAgICAgICAgICAgICAgICAgICAgICAgIAogICAgICAgICAgICAgICAgICAgICAgICAgICAgICAgICAgICAgICAgICAgICAgICAgICAgICAgICAgICAgICAgICAgICAgICAgICAgICAgICAgICAgICAgICAgICAgICAgICAgCiAgICAgICAgICAgICAgICAgICAgICAgICAgICAgICAgICAgICAgICAgICAgICAgICAgICAgICAgICAgICAgICAgICAgICAgICAgICAgICAgICAgICAgICAgICAgICAgICAgICAKICAgICAgICAgICAgICAgICAgICAgICAgICAgICAgICAgICAgICAgICAgICAgICAgICAgICAgICAgICAgICAgICAgICAgICAgICAgICAgICAgICAgICAgICAgICAgICAgICAgIAogICAgICAgICAgICAgICAgICAgICAgICAgICAgICAgICAgICAgICAgICAgICAgICAgICAgICAgICAgICAgICAgICAgICAgICAgICAgICAgICAgICAgICAgICAgICAgICAgICAgCiAgICAgICAgICAgICAgICAgICAgICAgICAgICAgICAgICAgICAgICAgICAgICAgICAgICAgICAgICAgICAgICAgICAgICAgICAgICAgICAgICAgICAgICAgICAgICAgICAgICAKICAgICAgICAgICAgICAgICAgICAgICAgICAgICAgICAgICAgICAgICAgICAgICAgICAgICAgICAgICAgICAgICAgICAgICAgICAgICAgICAgICAgICAgICAgICAgICAgICAgIAogICAgICAgICAgICAgICAgICAgICAgICAgICAgICAgICAgICAgICAgICAgICAgICAgICAgICAgICAgICAgICAgICAgICAgICAgICAgICAgICAgICAgICAgICAgICAgICAgICAgCiAgICAgICAgICAgICAgICAgICAgICAgICAgICAgICAgICAgICAgICAgICAgICAgICAgICAgICAgICAgICAgICAgICAgICAgICAgICAgICAgICAgICAgICAgICAgICAgICAgICAKICAgICAgICAgICAgICAgICAgICAgICAgICAgICAgICAgICAgICAgICAgICAgICAgICAgICAgICAgICAgICAgICAgICAgICAgICAgICAgICAgICAgICAgICAgICAgICAgICAgIAogICAgICAgICAgICAgICAgICAgICAgICAgICAgICAgICAgICAgICAgICAgICAgICAgICAgICAgICAgICAgICAgICAgICAgICAgICAgICAgICAgICAgICAgICAgICAgICAgICAgCiAgICAgICAgICAgICAgICAgICAgICAgICAgICAgICAgICAgICAgICAgICAgICAgICAgICAgICAgICAgICAgICAgICAgICAgICAgICAgICAgICAgICAgICAgICAgICAgICAgICAKICAgICAgICAgICAgICAgICAgICAgICAgICAgICAgICAgICAgICAgICAgICAgICAgICAgICAgICAgICAgICAgICAgICAgICAgICAgICAgICAgICAgICAgICAgICAgICAgICAgIAogICAgICAgICAgICAgICAgICAgICAgICAgICAgICAgICAgICAgICAgICAgICAgICAgICAgICAgICAgICAgICAgICAgICAgICAgICAgICAgICAgICAgICAgICAgICAgICAgICAgCiAgICAgICAgICAgICAgICAgICAgICAgICAgICA8P3hwYWNrZXQgZW5kPSd3Jz8+/9sAQwAHBQUGBQQHBgUGCAcHCAoRCwoJCQoVDxAMERgVGhkYFRgXGx4nIRsdJR0XGCIuIiUoKSssKxogLzMvKjInKisq/9sAQwEHCAgKCQoUCwsUKhwYHCoqKioqKioqKioqKioqKioqKioqKioqKioqKioqKioqKioqKioqKioqKioqKioqKioq/8AAEQgBGwJAAwEiAAIRAQMRAf/EAB8AAAEFAQEBAQEBAAAAAAAAAAABAgMEBQYHCAkKC//EALUQAAIBAwMCBAMFBQQEAAABfQECAwAEEQUSITFBBhNRYQcicRQygZGhCCNCscEVUtHwJDNicoIJChYXGBkaJSYnKCkqNDU2Nzg5OkNERUZHSElKU1RVVldYWVpjZGVmZ2hpanN0dXZ3eHl6g4SFhoeIiYqSk5SVlpeYmZqio6Slpqeoqaqys7S1tre4ubrCw8TFxsfIycrS09TV1tfY2drh4uPk5ebn6Onq8fLz9PX29/j5+v/EAB8BAAMBAQEBAQEBAQEAAAAAAAABAgMEBQYHCAkKC//EALURAAIBAgQEAwQHBQQEAAECdwABAgMRBAUhMQYSQVEHYXETIjKBCBRCkaGxwQkjM1LwFWJy0QoWJDThJfEXGBkaJicoKSo1Njc4OTpDREVGR0hJSlNUVVZXWFlaY2RlZmdoaWpzdHV2d3h5eoKDhIWGh4iJipKTlJWWl5iZmqKjpKWmp6ipqrKztLW2t7i5usLDxMXGx8jJytLT1NXW19jZ2uLj5OXm5+jp6vLz9PX29/j5+v/aAAwDAQACEQMRAD8A+kaqR6paS6vPpiSk3kESTSR7GGEcsFOcYPKngHPFW64DxLdXll48ng0WZIdV1TSo4bV3UMFZZWJYqeDhSx59KAO2h1C2uL+5soZN1xa7POTaRt3DK84wcgdqs15KNSGv6mLidjHpuoara22oqSVU4tciFiD0MpCkHr909cVqajY2uj6r4k07QIIrXTv7BeW6tbZQkUU53BCEAwrMoOcdQATQB6NWX4h1r+wdLS8+z/aN1zDBs37ceZIqZzg9N2cd8Vz3hfwdpKaJoGrW8LxalBbxytdq+ZrjMWCkrtlnTn7pOBtXGMCuUvLbRpvAmj61qEFpN4gvdVtw13LGr3Hmi5XegYjcoUAjGcADFAHsFFFFABRRRQAUUUUAFFFFABRRRQAUUUUAFFFFABRRRQAUUUUAFZmr+IdO0Sa2iv2uTLdbvJitrOa4d9oy3yxqx4zWnXH+KpL+Pxv4ZbSra3ubjbdYjubhoUxsXPzKjn/x2gDodJ1vT9ct3m0y480ROY5UZGjkicdVdGAZD7MAav153rWk3unW02o6rcRwNreqWqakLR2EcFuPkCeZ8rEHgM2FzuxgCrD6bZaH44Nj4btYLK0l0ieW/tbVBHEGDKInKKMBj84z1IHtQB3lULfV4LnXL3So0kE9lHFJIzAbSJN2MHOf4TniuK+H/g/SLrwH4Y1QxOmpJbwXH25WzO3y8xl2yfLIONg4x0xTtO8I+Fz8StbtZvD2kELaWs8MTWURC5MgZlG3jkDJHtQB6FRXneuWt1rXxEvNOudG0nWLa3sIpLW01W7aJF3MweRE8mQM2QFLcFRgd6q3+hXiN4I0jxHKJWGoXCutvcyMDF5UhSMyEKzgLtU5A3Y5yDQB6dSMwRSzEKoGSSeAKy9G8Oad4fmuzpEX2W3umVzaRBUhiYDBKIAAue/qRVzUYba50u6gv2C20sTJMxbaAhGDz2470AUNN8VaTq9wsVhNPIJM+VM1pMkM2P8AnnKyhH6EjaxyASOKsxaxbzeILnR1SQXFvbx3DsQNhV2YAA5zn5D29K5O3m1rwNf6LpFzfwa3pF7P9iti8XlXlv8ALlM7fklVVU5OEI681BF4R8MSfFLUre68P6Q6S6ZDPHFJZREM3mSB3AI68rk/SgD0KivOtbtLnWPiHd6ZcaLpGr2ltYQvaWeqXTRRqCWDyIghkDNkBS3BUYHesbW9EvIItP07xE0dxJb6NqbhEmaVNqshiUsygvtBXkjqoPagD16ivDI7NDrtnaBpFS8j0ae4YN800jtNvdm6kkcE+nHYVb8MwfYNU0m602FRdm61i3jwOkcbt5cQ9EBAwo4zzQB7RRXlXhfQ9W1TStD1qw03RYL4yRT3WsLqMj3U4z++SQeQN2RuXYXwpA/uitDRPCukeIda8YnWLUXTHVGjiMp3fZ8wx/PGDkI/OdwGeBzwKAPRaKitYPs1pDB5sk3lIE8yU5d8DGWPcmpaACiiigAooooAKzdfv7/TNJmvNMs7a8aBWkkjuLloBsVSTgiN8njpgfWtKs7xD/yLOqf9ecv/AKAaAJtKvv7T0ezvvL8r7VAk2zdnbuUHGe/WrdcmNVttE+FFpf3sUk0MenQgxxvsZyyqoG7I2jJGT2Fc5pcJ0n4kRWEGlaNoYuNInkuLLSLvzFkwybHkTyowCMsA3OcnnigD0+ivJ9G0ey0/wV4J1e2hA1OW6tVe9Y7pmR8gx7zzswcBOgAHFdBpum6T4g8VeIZPEltb315p92scEd2ocWsHlqyPGG4XcdxLjBJGM/KMAHcUVxHiWew1bXP7GGgaXrT2dkLuWTWLrZBDGxIDITHJlvlOWwMDGTzWXo9ld+JvhLpdtDe2kkwuW8uG7maWC8SOV8QswwXQqo5weFBKkcUAekyOI42ds4UEnFVNG1WDXNEtNUtFkSC7iWWNZQAwBGRkAkZ/GuW0K00rV9K1jQb3wtp9ibC4xLYR7Li1LlNyPGNoAyCDjapBPI5zUfw50XSLPwDpup6TpOnx6mbDY9xDbosjuBhlZwMn5l59xQB3VFeTeGNE1jWNF0fWrLTNFh1Npo57nWf7Rka7kw376Nx5HORuTyy+FwB/CK1NG8MaT4h8UeNf7ZtFvMaiscQm+dYc20XzopyFfn7wGeBzQB6LVLVNXstGtRcajN5aM4jRVRneRz0VEUFmb2AJqeztvsdjBbedLP5Map5szbnfAxlj3J71j+KNBGu/Yvs2qPpeqWcjT2Nwiq+1tpVsxtw64bkcdRyKANHT9WtdUtWntPOAQ4ZJ7eSCRfqkiqw9sjmk0XVoNd0W11O0SRIbpN6LKAGA98Ej9a53S7uXxHcaz4b8Xafpuoyaa0ZaWKHdbzBwWTMb7tjgAZGW6gg1T+HOiaPZ+BbHUtK0nT01RbZ43uIrdFkZwSCrOBnqMH6UAd5RXk3hjRNY1jRdH1qy0zRYdTaaOe51n+0ZGu5MN++jceRzkbk8svhcAfwiqraVa3fie1N0nmi68Q39vMrHIeERM3lH/YLAEr0PfNAHsdFfPlrALjw1LdSO/nWunab9nYNjyj9qkXcvowUYB6gEjua6CZZrKW80XTra1OlSeJzby2s85t4HQ26sI3ZUb5XfGRg7icH7xoA9jory3XdC1PRPAnjOSSx03SdNn0smCw025aSOOUK29wDFGE3DbwByRnrXW6P4O0iym07VLGFre9ii/ezo2ZLsMoyJnOWk5wRk8ECgDpaKKKACq8mn2c1/DfS2kD3cClYrhogZIweoVsZAPfFWK474i+JG0bQjb2r38Fzcywx+fbWM0oRHlVWw6oVD7ScDOc4wM4oA6MaJpQtbq1GmWYt7xi9zF9nXZOx6lxjDE9yaWz0XS9P097Cw02ztbOTO+3ggVI2zwcqBg5rno9e0Pwt4dOoqNde1lu47ci9S7lm3uQowlx8+OR90c9gTWnp/iZb6/nsZdLv7G8jg+0xwXIjDTx5xlSrsBzxhipGRkCgDYiijghSKCNY4o1CoiLhVA6AAdBVIeH9GW7nul0ixFxcsrTzC2TfKVIYFjjLEEAjPcVk+EbxLy+11iNYinW9AntdUmjkFuxjVgsXlsyhMMDjPXNOfxtZLKZPsN82mLcfZm1UIn2dZN23GN/mY3fLuCbc98c0AdJRXO33jGC11i+0u00vUtRvLGNJpo7WOMAIwJDBndV7Y253HsCMmpJPF1i1pp0umW91qcupQ+fa21qqiR4wAS58xlVQNw+8RycDJoA3qK5jwLf3eo6fqk18tzHINVuEWG5kDvCoIwmVZlwPQEiunoAKKKKACiiigAooooAKKKKACiiigAooooAKKKKAContoJbiK4kgjeaHIjkZAWTPXB6jPepa5X4heJG0DwreG1a8ivZIcQzwWMsyxksBksqFVIzxuI/GgDp54Irm3kguYklhkUq8cihlZT1BB6iqmnaJpWj20lvpOmWdjBKd0kVtbrGrnGMkKADxxXOWms6J4Y8M3WrKfEEttC0aTnURePKSSFBVLnBxlsnYPzOBWpp/imK91YadPpmoWE8sLXFt9rRFFzGpAJUK5Kkbl+VwrfMOOuADYtrWCytY7azgjt4IlCRxRIFVFHQADgCqmpaBo+syRSaxpNjfvDnymurZJTHnrtLA46Dp6VkeGrwXfiTXPMTWra5UwmWz1GeJ4oQVO0xCN2CggZPPWpLvxrZ2s1y4sL+bT7OXyrrUokTyIGBwwOXDsF4yVVgOeeDgA1dT0PSdaijj1nS7PUI4jmNLq3SUIfUBgcU6HSNNt4rWODT7WKOzJNsiQKBBkEHYAPl4JHHrWZfeLre1119GtdOv9Rv0tkuhFaImGjYkZ3u6qMEdCRnIxnnB/wmNhJpWn3dlb3d7LqRItrOFFEzlc7wdzBV24OSzAdskkZAN+ggMpDDIPBB71yngvUrzUr/xG99HdW5j1IJHbXUiu0C+TGdvysygZJOFJHPrXV0AZmm+G9C0e4e40jRdPsJnXa8lrapEzDOcEqASKk1TQdI1sRjWtKstREWfLF3bpLsz1xuBx0q/RQBQ1HQtI1iGKHV9Lsr+KE5jS6t0lVOMcBgcUseiaVFBFDFplmkUMTQRxrboFSNvvIBjhTgZHQ1eooApDRdLEySjTbMSIEVH8hcqEzsAOONuTj0ycU6LSdOt5I3g0+1ieJ3eNkhUFGc5dhgcFieT371booAy/+EY0H+1v7U/sTTf7Q3+Z9r+yR+bu/vb8Zz75q/BaW9s8z21vFC07+ZK0aBTI2ANzY6nAAyfSpaKACiiigAooooAKKKKACqWp6LpetwpFrOm2eoRxtuRLuBZQp6ZAYHBq7XL/ABA8SN4d8KX0tqbpL1rdzBLDZSzpG3AyzKpVevG4igDXsvD2i6bZT2enaRYWlrcZ86CC2RElyMHcoGDxxzS2Ph/RtMCDTdJsbQIGCC3tkj2hsbgMDjOBn1wK57T9V0bw74W1DWVbX5oLOEPcnUvtZkbA5KLckD67cD9K0rHxbBe6nbWcmm6jZi9Rns57qJUW4CgE4XcXQ4OcOqmgDWXTbFbWC2WytxBbFWgiES7Yiv3SoxgY7Y6VBqGgaPq1zDcarpNjezwf6qW5tkkaPnPylgSOeeKx9BvVu/GmsrKmtWt0sEDPZ308T26IS4V4ljdtpbac5OeBxU9/4wtrK4u1i07UL23sCBe3VsiGO2OASCGcMxCkEhFbH14oA07/AEPSdVuIJ9U0uyvZrY5gkuLdJGiOQcqWBI5A6elLNo2l3Gmtp9xptpLZOSzWzwK0bEncSVIx15+vNZl54wtYNYXS7KxvtTvJLRbyKO0RNskTEjO92VRjGfmIzkYyeKd/wmGnvodnqNvFcztfSGG3s0QCaSUZ3R4JCgja2SWCjaeaANWw06y0qzW00uzt7K2QkrDbRLGiknJwqgDrUFt4f0az1OXUrPSbG3vps+ZdRWyLK+Tk5cDJyfesTwpqd7qXibxGL23vLNYpLcR2l3IjGIGPJxsdlGTzwfrXV0AZbeGNAfVv7UfQ9NbUN4f7WbSMy7h/FvxnPvmr0NpbW0s8tvbxRSXD75njQKZWwBuYjqcADJ7AVNRQAVU1HStP1i1+zatYW19BuDeVdQrIuR0OGBGat0UAVrDTrLSrNbTS7O3srZCSsNtEsaKScnCqAOtQQaBo9rqkmp22k2MN/LnzLuO2RZXz1y4GTn61oUUAZbeGNAfVv7UfQ9NbUN4f7WbSMy7h/FvxnPvmrI0rTxKsgsLYOkrTK3krlZGGGcHH3iOCepq3RQBnroGjpC0KaTYrEyqjILZApVWLKMY6AkkehOalk0nTpYLqCWwtXivCWuY2hUrOSACXGPm4AHPpVuigDMtfDOg2NlcWdlomnW1rdDbcQQ2kaJMMYwygYb8a0lUIoVQFUDAAHAFLRQAUUUUAFYPjLTbvVdBjt7CLzZVvbWUruC/KkyMxySOgBNb1V9Q1C00rT5r3UJ0t7aFd0kjngD+v070AYvjTS7zVtLsYdPh86SLUrWdxuC4RJAzHkjoB061vzyNFbySRxPMyqSIoyAzn0G4gZPuQKqaXq9tq8Ly2kd4io20/arKa2J+glVSR7jir1AHHeFzq0XiPW5L/AMO6hZW+p3SzxzSzWzLGohRMMEmZskqegPUVi6b4O+wWqaNq2g69qMKTEfabXXGFq6F9ys0LXKYxnlQhGRxmu807W9P1a6v7bT7jzZtPm8i5XYy+W+M4yQM8HqMir9AHPWWl3cPijxDdvDi3vIYFgfcPnKowPGcjBI61gaJo2t+HIfDt5/ZEt7JBpH9n3dtBNEJIXyGDZdwpXIIOGJ6YBr0CigDnfBmnanp1hqA1qGKK5udRnuAsL7k2uQRg9fzAPHQV0VVbHUbXUlnNlL5gt5mgl+Uja6/eHI5+vSn3t5Bp1hPe3j+Xb28bSyvgnaoGScDk8elAE9FMhlS4gjmiO6ORQynGMgjIqm+uafH4gj0R7jGoy27XKQ7G5jBALbsY6npnNAF+iiigAooooAKKKKACiiigAooooAKKKKACsPxnp11q3hC/stPi824mVQibgucOp6kgdBW5UN3d29hZzXd7NHBbwoXllkbaqKOSSaAMPxvpd5rHhCay06HzrhpYGCbguQsqseSQOgNdC7FY2ZVLkDIVcZPtzxWfpGuWetxNJYpeBFAO65sZrcMD0K+Yi7vwzWjQBx2hy6uvjTVLy78M6la2uoiBUllmtSItikEuEmJxk8YBrFh8HfYvt2manoevara3N1NIJrDW2igeOVy214muI8EbiCApB65JJFd5Z63p9/qt9ptpceZd6eUFzHsYeWWGV5Iwcj0Jq/QBz1jpNzbePL+/8jZYyabb28T7wcsjyErjOeAy8n1rn9L0LWdDi0DUP7LlvJrFLuC4s4JohIFlk3q6lmCHG0ZG4cH2xXoNFAHNeEdO1SzutdudZto7eS/v/tEaxSBxs8pFHPqNuDwOQccYrpaq2mpWl/cXcNpL5kllL5M67SNj7Q2ORzwwPHrU80qW8Ek0p2xxqWY4zgAZNAD6KgsryDUbCC9s38y3uI1lifBG5SMg4PI49ar3Guafaa3Z6RcXGy+vUeS3i2Md6pjccgYGMjqRQBfooooAKKKKACiiigAooooAKKKKACiiigArD8Z6ddat4M1Ow0+LzbmeApGm4LuOR3JAFblRXNzBZ2stzdypDBCpeSSRsKijkknsKAMTxppl3q3gPVNO0+Lzru4tTHHHuC7m9MkgD863IVaO1jVlO5UAIHriqWka9Za4jPp63mxQGD3FjNbq4PQqZEUMPpmtGgDjNLl1j/hP77UbjwxqVvaXttb26yyTWp8so0hLMFmJx846AnrxWbL4VksdS1ZLrRtd1a1v7l7iN9M1toE2v95Hia4iAIOeQCCCMntXbW+uafd63eaRb3G++skSS4i2MNivnackYOcHoTV+gDm9N0WWx8ZvcwWph05dJgtYSXBKsjudvUngEc/rWJZ6DrOlabod4unPdXGm313JLZxTRiR4pnfDKWYJkAqcFhxnvxXf0UAcz4YsdWj8Qa9qOr2iWqX8kL26LIHIVY9uGIP3h3xx6EgZPTVVt9Rtbq+u7OCXfcWZUTptI2bhleSMHI9KtUAFFFFABRRRQAUUUUAFFFFABRRRQAUUUUAFFFFABXEfE6HVZNDhNneWUVr9ttFaKazaRy/2hMHcJVG3OMrt5weRnjt6oazo9vrlgtpdvIkazxTgxEA7o3Dgcg8ZUZ9qAOd8VX/iTRfDNs8epWLajNqVvAs0diyRBHkCkGNpHJ6now9sda1tP03XLS/nS71t7+ymg+V5YokmhmzzsCIFKY/vbiCO9Wta0W3121ggu3lRYLmK5UxEAlo2DAHIPGRzV6eNpbeSOOV4WZSBLGAWQ+o3AjI9wRQBzfhO71A6h4gstS1KfUV0+9WKGWeOJXCmFHwfLRQeWPauXg8Z6rf2K6zYz6xLO9x+70mLQ5WtXh8zbjzvJzv2/NuEm0Htjiuu0bwnJo2rXN8viDVLtruTzbiK4W22SuECAnZCpGAo6EDinW3hU6fck6Vrmp2NmZjL9gjEDwgk5YAyRM6qTngMMZOMUAZc8+u6p4r16xttbk02ysYIJIfs9vE0u9kYkEyKw28ZxjOehA4MGl+INW8TxaDaRXh0yS80sahd3NrGjPnIUIgkVlAJJJyDwAB611UOi28Gqajfo8pl1BI0lBI2qEUqNvHoe+ay08E2lvaaXFp2o6hYzaXbm1iuYGjMkkRxlHDIykEgHIUEEcEUAc/pL6xpngnxEdFM+o6hFq848wpGZnXeu9lUBULhckDABIHHapZ9Xt9R8B+KIItcvNSmt7GUSw6jaC2ubcmInDII4/lIxg7fXk9uj07wpaaPo9zp+lXV5aLPcPciZJQ0kbsckgsCG55+cNnPOajTwfbNa6ml9f3t9c6nb/ZZ7ycxrIIsEBVCIqDG5j93OTzmgDH0qfWdIvfDMd9qpvY9ViaKW2EEaRQFYd6mMgb/AOHB3M2c54rQ+0ajZ/Em2sW1W4ubG8sZ7g200cIWJkeMDayoGxhj94mtWXQbWW40mZpJg2kkmABhhsxlPm454PbHNZtx4QmuPEMesHxLq6XESvHEiJa7EjdgzIAYCSPlHJJPHWgCnLJr2r+Mdc0611x9NsbKGBojb20Ty+Y6EnJkVhs4yRjOehA67PhPVZ9b8KafqF2EFxNF+92DClgSCQPQkZrDHh++1Dxzr8v9papptpNFbJ/oyRKlwAhDfO8bHjplCCM+tdbY2VvpthBZWMSw21ugjijXoqgYAoAnooooAKKKKACiiigAooooAKKKKACuM+KEOpS+Cr42V3ZxWwjUTRT2jSs/zrjawkUL+Ktn2rs6o6zpMGuaPPpt28iQzgBmiIDDBB4yCO3pQBznie/8R6D4Gu7w6lYyX6ywrBLBYtEihpEUhlaR93U9CPz5rU0/Ttfs9WD3et/2hZSwt5ySwxxtDLkbfKCIPkwW4dmIwvJ5q5rmiW2v6O+nXjypC7IxaIgNlGDDqCOqjtWg6lo2VWKEjAZcZHvzxQBzXhyfUI/FGuaZfapcajDaC3aF7mOJWXepJH7tEBHHcVy0/jPVLyDUdT0641jz7W5litNLttDlmt51icrh5RCx3Ng8rIoXI44Oes03wlLpuuTap/wkmrXUtxs+0Rzpa7JgoIUHbCpGM/wkVIPCptryabSdb1LTIZ5TPJaW4geIuTlmAkicruPJCkDOTgEmgDOlutb1bxzdaVbarJpdjFpsFyRDBG0yyO7jAMisoGF5BU9BjHNUtN8Ravrtp4f05b37HdX0VxLdXsMKF9sLhPkVgyhmJUnKkAZwOmOui0e3h8QXGsK8puLi3jt3UkbAqMxBAxnOXPf0rLHgqzhsbCCxv76yn095Gt7yFozKBISXUhkKFTnoV7DvQBg6Mur6bYeNhpMsuqapFqH7l7hYw8reRF1ChEyB0GADgVb0bWYdQ0nVrY65qN7dx2Rkms9WsVtbm33Iedojjyp9cMM/xVtab4Us9ItL+GwubyNr+f7RJMZt0iyYA3Akc8rnDZByRjHFFp4Xihnubm+1K+1K7uLc2v2i68pWjiPJVVjRF685Kk++OKAOT8NT63o+g+DJ7nVjcRagIbWSxWBFhjQwllKnHmbhtGSWIOT8o4x0N7NqNj8QNKhXVbmWy1BJy9nJHD5cZRFI2sED9STyxq8PDFkun6LZiWfy9GeN7c7lyxRCg3cc8E9Mc1V1HwjNqOtxap/wkur20tuX+zpClrshDgBgN0BJGB/ESaAKl3NrepeP7zR7PWG07T4NPhuCYLeN5vMZ5B8rOrKAdvOVPQYxya0vB+q3Or+G4579le6immt5ZFXaJGjkZN2O2duce9Y8+h6je/Ea/mh1LU9Mt/7Mt4/tFrFFidg8uVLSRsMjIPy4I3fSuq0zTbXR9NgsLCMx28C7UUsWP1JPJJPJJ5JoAtUUUUAFFFFABRRRQAUUUUAFFFFABXHfFCLUpPAupmxu7SG2Fs3nxz2rStIMjG1hIoX8VauxqjrWkwa7ot1pl28iQ3SbHaIgMB7ZBH6UAc94hvPEGg/DvV7+XUbGW9t7bfayW1iYVjIHdXkk3fp9Kv6bY+IYb+0urrW1vraaJjd27wJGsbEAqYQq7sZyCHduO9aGtaNb67oN1pN28qW91F5TtEQGA9iQRn8KvLHshWNSQFXaD3oA5nQ7jUYfG+saVearcahbQ2tvPD9ojiVoy7SBgDGi5Hyjrk+9c/feLNRvLvWZLG91e1k0+4e3tLS00OW5huGjAz5sghb7zZGEdMDHfmuksvCEtn4gk1c+JdXnuJlSOZJUtdkqIWKqQsAIHzHkEHnrU0/hYjULm60rWtS0g3T+ZPFaeQ8ckmMb8SxvtJGM7cA4yRnmgDJW/wBd1vxYmnxahLo9q2kQ3cscdvG08crOwwDIrAdMEMp6cYOTUFj4j1fU9G0KyW6EF7qNzcW818kS7lSAuC6qQV3ttHUFRk8dBXVxaPBFr0mr+ZK1zJapasGI27VYsDgDrlj7e1Zp8F2S6VaWdreXtrLZXMlzbXcTJ5sTuzFvvKVIIdhgqePfmgCj4QtZrPxd4ohuL+4v5BJbEz3Kxhz+66YjVV/SuwrH0Tw1Z6DdX9zbS3E0+oOklzJcOGLuq43dBgn06DoAAMVsUAFFFFABRRRQAUUUUAFFFFABRRRQAUUUUAFFFFABWP4q1qbQfD8l5awLPcNJHBCkjYXfI4RS3sCwJrYriPibomlX2iQXd7plnc3K3tpEJprdHcIbhAV3EZwQTkdOTQB0lnLe6fbZ8Sanp8jySKkTwW7Wy5PAXDyvuYnpgj6VJZa9pGpR3EmnarZXaWv+vaC4RxF/vEH5eh6+lcj480DSLLwlZadZaXZ21lNrNn5ttBbqkb5lUHKgAHI4Ndc9hpljeNq8iRW0kNr5Dzl9ipCp3YPO0Adc9qAKXhvWX1qTUZk1LR9QskudlpJpc/mlU2g4lOSA+T24xirra7pK6uNKbVLJdRYZFmbhPOIxn7md3TnpXJ+DfEeiXvi3xPDY6zp8811fo9ukV0jtKot4wWUA/MAQeR6Gua01HuND/wCEf1jxZoGlXzX5kltbqyKXnn+dvDqzXA3M3G1gmCCMUAeoX/iDRtKDnVNWsbIIyo5uLlI9rEZAO4jBIBIqW/1XTtLsheanf2tnakgCe4mWNMnp8xIHNcvY2Vs/xB8WXUkEb3As7aLzGXJ2GNiV+hNc94av7PSo/Bt9r1zFa2I0Ix209y4WNZyVyAx4DlBwOpAOO9AHZ+GvE8Ot6TqOpS3Nn9jtbyaKO5hkHlGJOjlskdOpzitXTdX03Wbdp9H1C1v4VbY0lrOsqhvTKkjNcFYQ2Wt+BfEI1G6m0i3l1maUXM0YUwFZFZHdWGAuQCQ2Bjg4rb8Ha7davqmpRXE+l6rFAkXlaxpaFYpwc5jb5mG9TkkByMOOBmgDrqKKKACiiigAooooAKKKKACiiigAooooAKKKKACsvxNrDaB4avtUjgFxJbx7kiLbQ7EgAE9hkitSuN+J+jaZf+C726vtOtLm4t0UQzTQK7xguudrEZGfagDcsJdSsLNp/FGp6YwbYFa3tmtkQnjBLyvuySAOn61Ystc0nUri5g07VLK7mtTi4jguEdoTkjDAH5eQevoa5Dx3oOkaX8Nr610zSrKygnnt/NitrdI1kzMg5CgZ44rrf7I0y2u7e/W2igksrdoInU7FiiOCVwPlx8o6jjHFAFLQNbOtanqbW2p6LqGnRMi2x06482VOPmEuCQDnpjtV6fXdIttVi0y51Syh1CYAx2klwiyvnphCcnoe3auT8O+KNAvPiLryWmuabO12tqtusV3GxmIRshMH5iO+K5tVkk0/XNB1zxVoGi3N7fztJFqFkRctukPlSo7XChvlCbWC4GAOooA9Rv8AXNJ0pXOp6pZWYjClzcXCR7Q2QuckYzg49cGn3Oq6fZ6b/aF5f2sFltDfaZZlWPB6HcTjByK5mwsoW+LV/POiTXFvo1siTMvzANJLux6Z2iua0O5tdMt/CF7rM0NtpNuL5VmuGCxQzlyIyWPCnZ5gGfUgUAdt4W8Sp4ln1hrae1ubOzvfItp7V96yJ5aMTuBIJyxHHpXQVyHgW6S+1LxRdRJIkcuq5TzUKEr5EQBwecHGR7EV19ABRRRQAUUUUAFFFFABRRRQAUUUUAFFFFABRRRQAVmeI9X/ALA8N3+qiHzzawtIsW7bvPYZ7c1p1x3xP0fTNQ8C6ldX+nWlzcW1sxgmmgV3iyRnaSMr+FAG1p02qWVhJd+KdS0zywiuWgtmt0h9dzPKwYe/y1Ztdb0q9v57Gz1OzuLu3/11vFcK8kX+8oOR+Ncp400PSdH+FPiCLSNMs7COazJkW1gWIOcYydoGTXSWmiaXDDpc8dnFCdOhK23l/IsKsoDAAYGMDvQBW0bXDrGv6klpqmi32mwLGIVsbjzLiN+d/m4JUDI4x6HNX7zXdJ0++gsr/VLK1u7jHkwT3CJJLk4G1ScnnjiuQ0fxT4fufipqwttd02Y3NlaRQeXeRt5rhpcquDyRkcDnkVjXMjQXvijTNd8SeH9G/tG6k3Jq1kfMmhKhY2R2nRWUAYGAdpBzzQB6Tf63pWlrI2p6nZ2YjVWc3Fwse0MSFJyRgEggeuKll1Kxh006jNe28diEEhunlURbD0bfnGPeuS0rTYY/iYhuGS8uLPQII47pl5OZHDMOuN2PWsHTp7ex0Twtd6pIkGkWuq3nnSSnbFC++URMxPCgHgE8Ake1AHZ+HPFEPiPWNZisLqzvLGyeJYZ7SQSB9yZbLAkHB9MV0Ncf4Qv4tS8XeKbq1DmB5bby5GXAlXyvvr6qex79Rxg12FABRRRQAUUUUAFFFFABRRRQAUUUUAFFFFABRRRQAUUVxPxN1K8tvDps7bTdQmhuZ7eKW4tpYUXa8yq0fzSK2WBI4GPm5I5oA7aiuLl1Sz8F+GlvNN8GPpnn30VubCFbaKSQuwUP+6ZkJ5/iYdOSOtbOn6trM1/PZ6noiWkgg8+CWK5aWF+cbHfy12P04Abg5BNAG3RXKeDGiOpeI9+kwabfLfj7YYL17hJ3MSNvBdV28MBgKBxTX8aXItDq6aSjeH1n8k3husTY37PNEOzBTd335xzt7UAdbRXL3finUzr2p6Vo+iR3cmnRRzPPcXnkxOrqTtBCMd3HTGMckjgFY/GL6lbaUNA08XV5qdp9sSK6n8lIYuMl3VXIOWAACnJz0AzQB09FefaJ4gbw54P1/VtVt4llj1idXijnzGrs6qMyMq4XJGWKjAycVra/c6lc/D/Xzq1jbWr/ANnzFGtLs3EbqY2/iKIc/wDAccjBPOADq6K5HQfEl8p0Sz1PSBZW+o2+20kNzvl3JGGxJGFwmQCRh26c4pdy/wDC07f+0NHt0u20+YWl/DfSOxhV0yrRFFVSSwOQW6daAOtormLvxRqjeItS0fRdCS8lsIo5XnuLzyImDqTtBCMd/HAxjHJI4BZceN0bStDuNNtI5LjW32W0V5cC3RGCksruFY54IACnJ/OgDqqKr2Et3NZq2o2qWtxkh445vNT6q2ASPqAfarFABRRRQAUUUUAFFFFABRRRQAUUVyHxK1S+0/wdfpYWN/J5sO1ru0liQQZYA5LSK2SCcFQfwoA6+iuIW9sPBPhG71TT/BbaT5bwxtaqttHJc5YKDuidwSN38RBz6ZzW1p+saxLqws9U0H7HHNC00E8VyZlXBA2SnYBG+CDgFwcNg8cgG7RXJ+Fyp8WeIftOj29hqZMDXUttfSXCzgodh+ZE2kAYwBSXXjO6it73U7TSUn0PT5XjuLo3W2Y7DiRo4thDKpz1dSdpwOmQDraK5q78UX7eJZdE0XSEvZks47sXE935MO1mYYJCMwPy8YU55zjHMcPjRr/TdKOlad52o6mJClrNP5aRCM4kZ5ArEKDwCFJJI4HOADqaK8/0TW5dCs/Gusa1axpJa6h5ksFrN5ij9xFgB2VOOmSQMc+ldAl9qd94dvpNTsbO3R7Rnhksr43MbqUPcxoQfoCMd6AOgorgfB3iW/tvDnhaG/0cW1hfQRWsE7XOZt4iyC0QXAVtpwd5PIyo5xo35B+JejnUdHtmfyrhbC/jv5DIi7VLhodgXnp95unagDraK5u+8S6iviqbQdH0Zby4itY7ozz3fkwqGZl2sQjMD8vGFOec4xzpeH9ZTXtFhv0iaBmLJJCxBMciMVdcjrhgRnvQBpUUUUAFFFFABRRRQAUUUUAFFFFABRRXJfEjVr7TPBmo/wBn2N9Iz2zg3drJEgt+gydzq3fjaDQB1tFcTb3On+DfBmp6xY+DW0g2cAd4Stuj3QUdS0LPnr1bnJrX0/XNXn1K1i1DQGtLS8jZ4ZkuPOaIgAhZlC7YyQeMO4yMZoA36K5Lw+ynx9rn2vR7ey1M21u81zb30k6zxkuEBVkQKRtPQd+pqW98V3yvqM+k6Ql7YaW5S7me78qRmUBnESbCH2g/xMnPHvQB1FFcvL4tu7nXE0vQNKS+aWwjv47ia68mEIzEYYhGYHgYwpzznGM0ReM/tWiabcWWnmTUdSme3hs3m2qsiFhIWkAOEXafmCknjjnFAHUUVx/hCS+k8XeKG1S3t7a48y23R21w0yAeVx8zIhP/AHzXYUAFFFFABRRRQAUUUUAFFFFABRRRQAUUUUAFFFFABWN4q0e41zRktLR40kW7t5yZSQNscquRwDzhTj3rZooAw/Fei3Ou6dZwWjxI0F/b3LGUkArHIGIGAecDitmcyrbyG2RJJgp2JI5RWbsCwBwPfB+lRahf22l6dcX99J5VtbRtLK+0ttUDJOBkn8KmjkWWNZIzlXAZT6g0Acr4c03xHY69qtzqljpaW2qXAnc2+oSSPFiJUChTAobO3Ocjr3xWVpvw+j0iZLYeE/C2p26Tlkv7kCO5CFs/MvkOGZc4B3jOB92vQaoaNq8Guaat9aJIkTSSRgSgBso5Q9Ce6mgCna6LcQeItcv2eLytQihSJQTuUohU7uOOvbNYemeFtb0GDQp9O/s+6u7HTf7Puop53jjYZDB0cIxyCOhUZB6jFdRqeq/2bNYx/YL67+2XAg3WsO9YMgnfIc/KnHX3FV/EfiAeG9LfUJdNvL22hVnna1MX7lQMliHdSf8AgOTQBnaNoGraR4f1K2uHsdSu7u9muCsqmOKZXIyjcHb3HR8e9Zlj4Hu7fS/EcVvbadpA1e1MMWm2MzvbRSbGXzclFwWyAQqDhR1JruY3EkauucMARmnUAc/caDdS3vhqZZIQukljOCxy2YSny8c8nvjiqF3p/iiXxtbaxDp2kG3tbeW1VX1OUO6u6HeR9nIBAT7uT16119FAHCpJrg+IHiSPRLSwl3w2oeW7unjMR2NghFjbf643L/WtOTw1JZeEbPRLaw03XIIUCzQaqTGkrZ3b8hJAPmydu3uORjnoktoIriW4jgjSabAkkVAGfHTJ6nHapaAMHwdoEvhzQjZTNGoMzyx20MjPHaqxyIkZuSo9cDr0HSt6iigAooooAKKKKACiiigAooooAKyPFWkz654XvNNtHjSadVCtKSFGGB5wCe3pWvRQBh+LtEudf8MS6dZvEkzyQsGlJC4SRWPQE9FPattywjYxgM+PlDHAJ+vOKZcXEdray3Fw2yKFC7tgnCgZJwPaktLqG9s4bq1ffDOgkjbBG5SMg4PPSgDl9GsPE9t4sv8AUr/T9Jjt9QEKyCDUpZHiEakZAMChs59VxWVF8PYtPvbpE8KeF9at57l51ur8CO4QOxYof3EgfBJwdw4wMDGT6FVDSdXg1mG4ltUkRbe5ltm8wAEtG20kYJ4yOKAKdpos1v40vdWzCLaexgto41J3KyNITxjGMOMc+tYdj4T1jR7fRrqwNjc3+nC5ikhmneOKWOZ93DhGIYEL/Cc8j3rqNX1X+yYYJPsF9e+dcJBtsofMaPccb2GRhB3Pama7rDaHpj3w027v44gWlW0MQaNQCSx8x0BHHbJ9qAMrQ9C1jSodcmuZrK7u9Ru/tKDayxkeWi7DxkfdIz83YkHpVHRPBtxYXmq3UVhpmiR3tn9n/s/TJneB35xK2Y0Ctg4wE6cknpXX2d0l9YwXcQYRzxrIoYcgMMjPvzU1AHKr4YvV0XwpZmWDzNGlhe4O5sMEiZDt455I644pmsWHie58WWGpWOn6Q9vp/nLGJtSlR5hIoGSBbsFIx0y31rraKAOGlm1mP4o6l/Y1lY3EjaTa+Z9qvHhCfvJcY2xPu7/3a6Xw3ox0HQ4rF5hcTbnlmlC7Q8jsXchcnA3McDPAq+trbrdvdLBGLiRAjzBBvZQSQCepAyePc1LQAUUUUAFFFFABRRRQAUUUUAFFFFABWR4r0mfXfCmoaZaPGk11CURpSQoOe+AT+la9FAGL4r0a413wbqOk2jxJcXVuYkaUkKD7kAnH4VrRI0VsicFlQDrwSBT2YIjMxwqjJNV9O1C11XTbe/0+Xzba5jEkUm0ruU9DggEfjQBzWnaf4oi8aXer3en6QlveQQ27rFqUrvGsZc7gDbgMTv6ZHTrWfceAlt9Y1C4h8L+GdcivrhrkSamPKmiZvvJu8mTeueQflxkjB6131UNN1eDVJr+K3SRWsbk20u8AAsFVsjBPGGHXFAFKz0OW18XSami28Vo2mxWiQxZBRkdmwBgDbhgB/KsW38Jatp2maTJZPZTajpl7cziKWV0imjmZ8rvCEqQGBztPIx3zW7r3iMeH2t2uNMvbi2mljha5tzFsiZ3CKGDOG6sPuqa2aAOe8OaLqen6xrOo6vcW8r6k8UiJbg4hCpt2cgZA/vd+uB0HQ0UUAFFFFABRRRQAUUUUAFFFFABRRRQAUUUUAFFFFABXM+MbTV7n+z202G7u7KOYm+tLG9+yXEqkYUpJuX7p5K71z6npXTVR1PRrTV1QXf2hGjztktbqW3cA9RvjZWwcDjOOB6UAcTro0/xD8IdUmtn1hRZ21wohurqaOeKRVOY5cN+8x/tFwfU9a6KwtNM8M+G5tSe9vo7dbQSzTXN/PciNQudyiRnA/Ac8da1bPRtPsNLOnW1qgtWDB43JfzN33i5bJcnuWJJ71UsPCmk6dYz2UEVxJaTxeS9tdXk1xGExjaqSOwUYOMKB+lAHI6ffXdr4y0I2ll4gsbTUzKsw1a+W4jnHll1KoZpGjYEdAqjBII7VmWltcab8OJ/EFtql7He2t9M9tEtyyQY+1MPKMQO192SCWBOW4IwMd3Y+CtC0+8tLuC1me5ssi2muLuad4lK7SqmRyQuP4enfGaW28GaHa3i3EVvOdkxnSGS8mkgSQktvWFnManJJBC8HpQBn+K4Gg1jQNQgub2GaXUobeRI72VYnQhiQYg2w/UrmrPxD/wCSca//ANeMv/oNWdX8JaVrl4lzqP29pI2V4xDqdzCiMOjKiSBQ3PUDNO1PwppesabFp+om+ltY4zFsGpXCeYp6iQrIDJ06vmgDUtf+POH/AK5r/KpaqabplvpNmLa0a5aMHI+03Utww/4FIzHHtnFW6ACiiigAooooAKKKKACiiigAooooAKKKKACiiigArnfGVrq91YWn9jpPPFHcq15a2t39mmnhwQVSXI2kEhvvLkAjIzXRVT1LSrXVoVju/PXacrJb3EkEi/R42VgD3GeaAOSA07xD4C1W3hOtwNY+ekltd3kyXEMgQnYzq+ZFIIYZZwQw5xgC94P07T9G8H2Opi6vAjadG8rXGoTzxouwMSqO7Kv/AAED0re07R7HSrN7ayg2xyMXkMjtI8rHqzuxLOT6sSaqaX4V0nRo5IrCK4W3kQxm2kvJpYFU9VWJ2KKPZQOOOlAHGQ6pcJr3h6/0u18RW9rqd35UtxqV6skF1G8bMCITMxjJKhhiNMDIwOlVhZy23g/xRrsOq3ttdWGoXs1osdw8cKMshOGjUgSbiMEODxwMV2lp4F8PWU9pNDZSNJYuHtDNdzS/ZzgjEYdzsXB+6MDgccDD/wDhC9DN8901vOxec3DQNezG3aQnO4wF/Lznn7vXnrQBk+MRKNJ0jVkuLy1vPtllGywXkscZV5kDq0asEbIJHINbvir/AJE/WP8Arxm/9ANM1rwppfiCVH1QXr7CpVIdRuIUBU5Vtkbqu4HnOM8D0p174Y07UNJj027fUHtowVwNTuVZweodxIGcezE0ATeHv+RZ0v8A684v/QBWjVDSNGtNDs/sunm58nIwtxdy3G3AwADIzEDA6Dir9ABRRRQAUUUUAFFFFABRRRQAUUUUAFFFFABRRRQAVz3jK11i60u3GirLMqXKNd21vdfZpp4ecrHLkbWzg/eXIBG4Zroap6lpdrq1uIrvzgFO5Xt7iSCRT7PGysPfB5oA53SP7O1/w1fWEZ1y2NpO0c1teXsyXMDgZ2mVXLMpBDD52BDdcYAr/DfSLLT/AANpGpie93mwUyCbUJ5IlGMnEbOUXGOyjFdTpmkWWj2zw2EJQSOXkeSRpJJWP8Tu5LMcYGSTwAO1VdN8L6VpNxJLp8dxEsm/Nv8AbJmtxuOW2wlzGvPoo6n1oA4l9XlOo6JrGiweIo7a+1COJ7y9vVe2u4nyOIDMSmeCpEaY9gcU5NLa4TxtqDatfWTWt9M9v9muWhSF1hRt7BT+87cPlcDpyc9Tb+AvDlrJbtFYyH7JKs1qkl3NIlswJI8pWciMc/dUAHgEcCpZ/BmiXV/Pdz29wzXMglnh+2zCCZgAMvCH8tvujqpzigDE8S3k+ofDXSby8UJcXFxp0sigcBmmiJ/U13FY2teFdL8Qsh1QXjrHt2xw6hPAmVO5TsjdVJB5BxngelaVlZxWFmltA0zxx9DPO8znnu7ksfxNAE9FFFABRRRQAUUUUAFFFFABRRRQAUUUUAFFFFABRRRQAVQ1XW7DRliN9JJvmYrFDBA88smOTtjjDMQO5A471frlNZkfSvHdjq9xZ3lzZNYSWoe0tnuGikLqwyqAsAwGN2MfKMnpQAeHPFcdxoeqarq908dtBqM0MRngMTqgICJsKht3OACNxJxya2dN8QabqqXBtZpEa2x58d1BJbyRAjILJIqsAR0OMHB9K4CTSdbuvDsl29pqGnyweI5L+SC3SOSfyeQGRWVlcjIbADZwcZOK39DsLO7vdR1F7zX9Wnks/sskep6d9k3R5J2qDBCGPJ5ycZ7UAbWm+KdK1Z2FjJcuNhkR3spo0mUd42ZAJB/uE8EGsbSPH9vf69qdlNaaisVvPHHbldGuw2GRSfMzH8nJP3tvHPTmqnhgX1j4gtdP0W71m70GOGRZodY094TaY/1YjldEaQfw4O/AGcjirtpdHQvG+trf2d+YtTkgltp7eylnjbEYQqzRq2wgr/Fjg5oA2tW8S6boj7b9rnhN7m3sppxEvq5jRgg68tjofQ1kav4rj07xVowN6DpV5ZTy4hj84zuGj8vYFBZjhmwFzn0OKo+IL3W5PEOoWbza3aWiwJ9gTSdPjmF2SDv3yyRuiEHgBigxzk54ytDhn0KLwReanpuoLFaaNLbyiKwlmkglbysKyRqzKcBu2KAO6TxFp91ocmpWclxLArGNhDZyySo4OCphC7wQeoK5HeofC1xLqHhO3lfWZNUklVx/aH2QWzMdxGfKI+UjpgjtyKy/D7tpMOua5qNneW8Oqah58NulrLNME2JGrNEisyltm7GMgHnByKZ8P9RSDwittc2epW81p5skqT6bcRnBkZht3IN5x2XJ9qALnhK61B9S8QWGo6lPqK2F6sUMtxHErhTCj4PlooPLHtT49X+0+PlsotWuIkjtJN2mTaZJGszBl/erOygMBkDCkjnNZnhHVI5PFPiANZapCuoXqzW73Gl3MKOggRSSzxgLypGCQTTL/WYR8TLC6Fjq7W9tZXFtLMmj3TIJGkj2gMI8EHafmGRx1oA6DV/FemaHJKuorqCrEnmSSxaZczRKuM5MiRleO/PFTXniHTbCwtru5llCXWPIjS3keaXIzhYlUuTjkjbkDOcYrn/FWqLPr9rpF7aap/ZcQW5upbbTLmdbhgcpCDGjDGRub6AdzUHiiC7udf0TxBaXGsWunpazRSPYWIkuITIUKloJInfB2kHCbhxnAzQB1+marZ6xZC606bzYtxRtyMjIwOCrKwDKw7ggGrdc74QsLW2t768trzVbx76582aTVLT7NIXCKvCeVHgYUc7efWuioAKKKKACiiigAooooAKKKKACqOqazY6NBHJqErJ5r+XFHHE0skrYztSNAWY4BOADwCegq9XLeIvNsPF2i6zLbXVzY28NxBL9lt3naJ32FX2ICxHysuQDjPpQAzw74qW9XxHfaldPDp9jfbIjd25t2ij8qM4Ksqt95j94ZOR7VsaV4i03WZZorOSZJoVDvDdWstvIFPRtkiqxU4PzAY4NcHdaRrOq6P4hnjsL6ylfXYL6OEKnmyQxrFygcFGbC5AORkYPNb3h+0tb3Xm1N9S8RajdQWjwBNU0z7Imx2BIB+zxBjlR3OKANvT/ABTpOqXXkWM08m7cI5jaSrDLjOfLlKhH6H7rHoT2rEtPiBbzeKdR0+W01L7NbxwmEpot4ZCzbt24eWcDgYJAB55NUdBjvNL8QWGn+GZtZk0dWkW7sNUsHSOzTBKmKd0UthsKFDSDB4wBmtGS6bQfiDqV1e2V/JaajaW4hntLKW5UPGXDK3lqxX7wIJwDz6UAbuqa/YaPt+2fanZl3bbWymuGVfVhGrFRweTgcGsXWfFtvaah4curbUIzpOoeczvEokE4EeUC4BYkk8BeSeOelV/EGoawvik2nn6xY6b9lVraTSdPW4a4mLEMsjPHIseBtxu2D5iS3HGFpFtc6RpHgy61PTdR22U1356ixeaWEuH2lkiUkZ9QMc+4oA7208SabfaXcX9o9xLFbMUmiFpN58bD+Ew7fMzyDjbnBz0qr4QvX1Hw+076xJqxa4mUXD2JtGTDkeWYyAQVxjJHOKoaI7Wt/r/iS7s7y3tL6SLyIhayvO6Im3eYVUuCSemM4GSBUPw/1BV0y9tZrPUreX7bd3IFzptxCGjaZmUgugBJBB2jn2oAu+HJ9Qj8Ua5pl9qlxqMNoLdoXuY4lZd6kkfu0QEcdxXTVxOgaxFL491mX7Fq0cV+tutvLPpF1EjFEYNlmjAXHq2K7agAooooAKKKKACiiigAooooAKKKKACiiigAqlqmr2WjW6zahKyCRwkaRxtJJKx/hREBZjjJwATgE9qu1y/iXzbLxNoWsPbXVzZWonimFrbvO8TSKNr+WgLEfKRkA43elADPDXij+0rjxJc3txJDYWF2qxG8tzbGGPyUZtwdVYDJY5b+Va2l+JdL1i6a2spZlnWMSiO5tZbdnTON6iRV3LnuuRyPWuIuNJ1nW9D8ZeTp93ZTXmoQz20ThVeeNEiPG75csEIweAeG7itfQbe31HxDa382q+Jry6s4ZBHFqmlC1jUOAGG4W0YY8DjcemaAN6y8U6TqF/8AZLOaaRi7Is32SUQOy5yqzFfLY8HgMeh9DWKfH9vH4xutLktNRNrDarIGj0a7eQyF2U8CM5TAGGxg84JrO0uO70vxDZWXheXWv7Pa5c3um6lYOLe2jIyxiuHQdG6KryA7jgY5rV1G4bRPiCdTurO+msrrTVtxNZ2ctzskSRm2ssaswyH4OMcdaAOsRw8auuQGGRuUg/keRS0iOHjV1yAwyNykH8jyKWgAooooAKKKKACiiigAooooAKKKKACiiigAooooAKKKKACiiuI8ZeMNW0DULyPTre1kgstNF/I0ysWYCTaUGGHJHQ9uSc9KAO2ZgilmIVQMkk8AVDZ3trqNpHdafcw3VvIMpNBIHRx7MODXMaRrGu61/benyvptve2UkWyT7K8sWySMPtZfMUsRkjdlQeu0dKteEL5n+HtneQ6fbROsDstpYQ+VGSpb5UTJ25x0560AdJRXI+C/FFx4j/eTato9wxjLTafbRPFc2LZxskDOxODlSSicjOOcUz/hLr//AIQL+2/JtvtP237Ps2ts2/afKzjdnO3nr1/KgDsaK5K61nxFd+JdZ0vSP7NtodOhilW5uonlLl1J2FFdfT72eOmD1Edn4r1HX4NGg0aO1s7vUbD7fNLdI00cCcDaEVkLksf7wwBnnpQB1kFzBdBzbTxzCNzG/luG2sOqnHQj0qWvNtN8Rv4V8L6pPqFxZG8n1+a2WeU/Z7cOzD523MdqgAnG4njGeavWPjx5P7YtY9U0XWp7PT2vobrTD+6OMgo6eY5BBAOd3IPQY5AO7orlNF1LxbfQ6RqN1baY9lforXFtbhhJaqyZEnms2H5wCoQEbupxk17fxbd3XjC60t9R0nTnt7kQx6XexOtzdx4/1schcAg8kBUf7uCeeADs6K4LWrfxA3xT0r7JqemxbrG7MHm6dI/lpuiyGxOu49ORtxzwc8dBreo3OkaLBJea3o2mykhJb6/jKwlsdFjMq9eeDJxjvQBu0V5/F4/1C48Lm80+PTdSvItYj03zLeUi2uQzKPMRgWKjDDu2CD1rSHifUNGvtYtvEbWlymn6euorNZQPFlMuChVnfJGz7wPOegxQB1Mt1bwSwxzzxxyTsUiR3AMjYJwoPU4BOB2FMN/ZrqC2DXUAvHjMq25kHmMgOCwXrjPGa4a9bXp/Efg671qfTxFPeu6WltbuGhJtpDgymQh8DjIRc9eOla3m3cPxOt7e9j0udbiwnkguI7IpcworxjyzIXbcDuycBeR0oA6uiuUudY8Q3fizVNH0cadbQ2NtDOLq6ieUln3/ACbFdf7ud24Y9DnitD4v1LVrDw2mnR2ljea1C8zS3KNNFFsUFlVQyF2JPHzDABPOMUAdpRXNeCtX1bWbC/l1qWxle3vpbWNrGBo0YRttLZZ2zk/TBBHPWuloAKKKKACiiuO8ZeKdW0PUVttJhtGUaZc3zyXCs23ySnGAwzncR7Zz2wQDsagsr+01G2Fxp91BdwliolgkDrkHBGRxkEYrldB8Ra3rl5qVhJ9gtbhbS2u7Z/IeRI1mDHY43guRt6gr16cc3PAt0Z/Chc2dlbPHdXMTR6fb+RExSVl3BMnBbGTyeTQB0tFcb4Q8WXfiG7/0jUdJWX5/P0ZYnjvLPBxh9zktg4BPlqDnIPTLpvFt/H4J13WFit/tGnXVxDEpVtjCOTaNwznOOuCKAOworlbnWdeu/GFxoekDT7eKGwiujd3UTylWZnG3y1dd2dvXcMY754rWfi7UtYsdFttPitLfU9SSZ5ZJlaSGBYW2uwQFS+WKgLuGN2STjkA66G6t7iSZIJ45XgfZKqOCY2wDhgOhwQcH1FS15tYa/L4TsfF2oatNaXF0usRxbwDbQs7xQqpO5n2KMgkkngE1o6N44+061JpT6zoetyNZSXUU+kHCxlCAUkTzJOu4ENkZwRjvQB3FFcV4a1zxdrehaLrklrpbW18sbTWUCv5iRsOZRKzgcddm0nHG4mln8W3n/CaXOjnUNJ0owSRrb2moxOJdQVhndFJvUAZyuArkFeeuKAO0orhfFMGuv4+8Omy1HTokZ7j7OsunvIY/3XzbiJl357YC49639VvrzSfD6TX+saPZThgst/dxGO3XPTEZlzk8DBkHrk9KANuivPU+IN6/hfWLuybS9Wu9MvYbZJ7OQi2uxIyYIwzFDh8H5mwRnnpWzDr2qab4gmsPEDWU0R0979JLOF4zEEYBkbczb/vDDDbnB+UUAdJNcwWxjFxPHEZXEcfmOF3seijPU+1S151qN3rmqL4V1S/lsYbK71SCWOyjtnMsQZWK7pvM2scdcIP0yfRaACiiigAooooAKKKKACiiuR8YeJdV0bUYLTSIrRvMsLm7eS5Rm2eTtPQMM53Yx7g9sEA66q9pf2eoJI9hdQXSxyNE7QyBwjrwVOOhHcVynhvxRrGu6hfWMy2VrMdOt760ZYndYhNvAWQbxvI2A8bOuO2aveCJpJNN1FJ7awhmg1KeKQ6fa/Z0mYEZcoWb5jnk5NAHS0Vxnhjxbd67qzwz6jpMEySSJLojRPHe24U8MSz/ADcbTxGAd3B45st4nvV0XxXeCKDzNGlmS3G1sMEiVxu555J6Y4oA6qiuQ/t7X9Q8RR6Vpa6fbq+lw3r3VxE8nluzEFRGHXcDjj5hjH8XSmW3i/UNQ0XR0tYLaPVdTnmt9zhmhiMJYSSbcgsPl4XcD8w54JoA62O5glnlhinjeWHAljVwWjyMjcO2RzzUtecwa3ceFbrxlqeuT2t3PA9qA0UZtYnZowqg7nfaMkZOT3NaGheNvtfiSDSZdb0LWjdwPKj6Q2DAyYJV18x8gg8N8vQ8c0AdtRXD6Fr3jDW9CtNahtdKaF59j2SK/mSxiQo0gkZwqEDnYVbO373PEt74tu08Z3GjnUNJ0nyTGLeDUon36iGGcxSb1Uc/LgK5BGSOgoA7OiuF8cQ60/ibwybK/sIYm1HEKTWLyMj+RLkswlXcMZ4AU+/Y9BfXd/pXh1ptT1fSLe4VsSX9xC0NvGCeDsMpJPQY8wZznPagDaorz6P4gXR8N+Jbm2n0rV7nRUV4bqwb/R7kMuQMb22kHII3nsfataLXtZ0/xBa2uvCxa3vbOa5VbSNw9sY9pKFixEow33gqdOnPAB009zBahDczxwiRxGnmOF3MeijPUn0qWvONTvdb1nT/AA3q93LYwafeapayxWSWzmZFYkrum8zaTjkgIOuM8ZPo9ABRRRQAUUUUAFFFFABXMeJPBv8AwkE2ov8Ab/s/27TfsGPJ37Pn3b/vDPpjj6109FAHOQ+G7/T7zVrzStSto7jUnhb/AEmzaVIxHGEIwsikk4znIx6GneF9A1TQdE/su81a2uYY0KwSW9iYZEJJJJLSOG68cDp3roaKAOct/DV7N4mtda1y/s7meyjeO3+x2Btzh+CHZpHLD0A2jOTz2y5/AF9NpraSviAxaUt79sihjsx5ufO83ZJIWwyZzjCqemScHPUadd6hc3V/HqGmfYoYJtltL9oWT7SmPv4H3OeMHniqNprl+3i+XRNQ0+2hX7MbqCeC7aUugfbhlMa7T34LfWgCe30PyNb1bUPtG7+0o4k8vZjy9ilc5zznPtWPaeC7zSrbRjo+rxQ3mm2X2GSWezMkc8XB+4HUqwIBB3EDJyDXXUUAcnB4GFvoc1kNVuHuf7RbUYL2RAXjlJyNw6MOoI4yDgY4rQOl61faTqFjrWp2Ey3UDQxvaae8JjLAgk7pn3dRxxW5RQBU0qx/szR7Ox8zzfssCQ79uN21QM47dKxNb8L3/iCRbXUdTtH0tbhJ1j+wf6SpVtwCzeZtHPGRHnbxnPzVp6hrP2HXNK07yPM/tFpR5m/Hl7E3dMc56dq06AMTXNCur/U7DVNKv4rK/shIitPbGeOSNwNysodD1VSCGHTvVbU/DmpX2o6Tq1vqlrDqmnxSRM8ti0lvIJANxEfmhlOVGDvOBkc5rpKKAOSh8DyrazR3GrvcSzavHqjTPbqpJTZ8mFIH8HXt6HqdC/8AC0GpatqN1dzFoNQ00afJAFwQu5iWDZ/2+mO1btFAHKQeEdSk1DRrvVtdW6OjuTDHFaeUsimMpl/nbL8/eGB1wozmluvDviGfxZDrUet6Yn2eKSCKFtKkb927Kxy32gZb5ByAB14rqqKAMq20T7P4i1LVPtG77fDDF5WzGzy93Oc853egxivPPEGi2WjXnhrRtXutJSzs7CZRfa9aiWzkfcvyiNnUCTAyDvzjdwe3rFFAHK+BdVm1CyvLYR2L2FjKsFleabbmC2uE2jPloWYYU5XKsVOOOldVRRQAUUUUAFc74h8Kf29fPcfbfI3aZcWG3yt2PN2/PnI6benfPUV0VFAHMWXhW80q8urzTdTgW5nsrW0Q3FoZETyQQWKiRSd27pkY96k8K+H9V8P2k1pe6raXkEkksy+RYtC6vI5cnLSuCAWOBj05NdHRQBzX/CMX174g0/Utc1G0uf7Md3tfs1gYZcspXDyGRtwweQoUEgHtiqGpeA7690/VNKt9f+yaXqE73JjSzDTK7kMVMhfBTdk4ChsHG6uls7vUJtVvoLvTPs1pAU+zXX2hX+0gjLHYOUweOetUP7ev4vGkOiXmnWyW9zBLPb3UV2zuRGUBDRmMBSd/Zm6UAWbbRPs/ii61j7Ru+0WcNr5OzG3y2c7s55zv6Y7VjweCrnT7TS20rVIotQ00zqk89oZI5I5W3MjRh1PXbghhyPfFdbRQBycXgVf7L1W1u9UuJ5tQvUvlutih4ZVCbSByCAyAgYxjj3rVsrLXTHPFrOp6fdRyRFF+y6e8DKTxklpnB+mBWvRQBl+GtG/4R3wvpuj+f9o+w26Qeds2b9oxnGTj6ZNZ3iPwzf8AiOCfTrvUrT+yLggyQvYb51wc/JL5gVSCOCYyR6k81o6vrX9lX+k232fzf7Suzbbt+3y/3bvuxg5+5jHHWtSgDE13QZ9Sk02502+WyvtNlMkMksHnIwKlWV13KSCD2YHIFV9V8Oajqh0i8Op2keq6XK8iymxZrdyylT+6Mm4HB4IfI59cV0dFAHIN4HuJrTVkvdZM8+p3dvdPL9lCiMxbPlCg9DswMnIB5LEZOveeH477xEupTTZj+wS2TwbPvB2Uk7s/7OMY71sUUAcfB4J1DZo8N9r/AJ9totwktrHHa+WXVAQBKd53tggBgFHU7TxjsKKKACiiigAooooAKKKKACsDXvC/9t6it19s8jbp9zZbfK3Z87b82cjpt6d89RW/RQBy2meEbnR76e9sNSiNw+mW1hH51qWRTDu+cgOCc7/u5GMdTU3hnQNY0Se7+3atY3lvdTyXLpDp7wusjkHhjM42jHTbn3ro6KAOZm8MX+o61p93rWp2lzDps5ntRDYeVPuxgb5TIwIweQqLk46DiquqeCL6+j1u0s9eNlp+tM0k6LaBpkdkCHZIWwFO0ZBQnrhhkY6G3u9Ql1u8tbjTPIsYUQ2979oVvtDHO5dg5Xbxyeuao3WuX9l4ssdLn0+2+x35kEN0l2xkBRNx3RmMAenDmgB+n+HvsOvf2l9p8z/iXxWXl+Xj7jMd2c993TH41mp4LntdL0+PT9TSK/067muYLmW23xkSsxZGjDgkYfHDDkA+1dZRQBycfgYSwa2up6pPcyaw0UjyqgQwSRgbSgOQACAQDnGOS3JOtplrr8MpGsapp95Ds2gW+nPA+71LGZwfoFH4VrUUAZXhnRP+Ed8PW+l/aPtPkFv3uzZu3MW6ZPr61Q8R+G9Q8R29xps+pWg0i6AEsMmn+ZOo77JPMCqeMglGIPPNaOt6z/YyWLeR532u9itfv7dm8kbuhzjHStOgDF13QH1SzsRZXn2O706dJ7ad4vNUMoKkMuQWBViDgg89aqar4b1PV7XS5bjVLRdU026+0xTJYt9nc4ZcNCZSejdQ4IIz7V0tFAHIS+CLq7s9fTUNa8+41uKJHkW0CLAUGPlUNyvPAJJHdjWvfaAl/rlhfyzfJaW88DQ7M+YJAoJznjG30PWtiigDjYfA98LbSrO517zLLR7iOW0iS12MyoeFlbed5C8AgKOpIJxjsqKKACiiigAooooAKKKKACuJ8Wabbat8QvC9pfoZbZ4bwyRbyFlAVPlcD7ynupyD3Brtqie0t5bqK5kt4nnhDCKVkBaMN1APUZwM4oA5HVtP0jwjocllaacLq31e/SKDS3kEVqkj4GzhcJGdpJGGySeDnFZ/guJYPHPiLR/sOl2FqtnbtLpum3PnW8cjGQMSpjQKzKFyNvIwe9d5e2NpqVm9pqNrDd20n34Z4w6NznlTwarwaDpFrbvBbaVZQwvD5Dxx26KrR8nYQBgr8zcdOT60Ac94HsLPTNc8V2mm2kFnbR6kmyG3jEaLm3iPCjgVZf8A5KvF/wBgZv8A0cK0LDwl4c0u8W70zw/pdncpnbNb2UcbrkYOGABFR/8ACF+Fvtf2r/hGtH+0b/M877BFv35zu3bc5zzmgDnV0LTdc+K2vrrFql9DHYWm23uPnhyTJ8xjPylvQkEjnGMmnNoNkvirS/DerFr/AEiDTZHtba/IkSaUSDO4H5XKIRgEcA5967ZLS3ju5LqO3iW4lVVkmVAHcDOAT1IGTj61DqWk6drNsLfV7C1v4A24RXUKyqG9cMCM80AcBb6hbaPo+uWKWY1DSm1lLDTbRptkJLKm6ItyFiD7gRgjqoU9KyzcXeg3njG20m107R3t9HSc2ej3XmxwS5YGTb5abH2YP3ecKea9TfSNNk0oaXJp9q2nhBGLRoVMW0dF2Yxj2xTbLRtL01QunabaWiiPygIIFQBMk7eB0yScepNAHEf2Z4c0rx94Uj0S0soruWKeWWWGNfNmQxcO7gZbJycseTk+teiVn2OgaPpgUabpNjaBHMii3tkj2sRgsMDgkcZ9K0KACiiigAooooAKKKKACiiigAooooAKKKKACuK8dWMOo+JfCFrdeYYZL+YSKkjJvHkP8pIIJU9x0I4PFdrUUtpb3E0M09vFLLbsWhd0BaMkYJUnocEjigDk9WsdF8EaFqE9pYE2t/NDEumRMsNv5rEIAAAAisSNx5B9D0OZ4WgGm/Eq90yLTtJ0mN9MWSfT9KuvNi3+ZgOyeVGEYqcdORjniu/urS3vrWS1vYIrm3lXbJFMgdHHoQeCKq2eg6Rp0Yj0/SrK1QRtGFgt0QBGOSuAOhPJHrQBz3hbTbHSvHHia20uyt7KDbat5VtEsa5KNk4UAZNT6j/yVPQv+wbef+hw1oWfg7wzp95HdWHhzSbW4iOY5oLGJHQ+oYLkUk/gzwvdXb3Vz4b0ia4kfe80lhEzs3XJYrkn3oA5++0XT9b+Lk0OrWy3dumixt9mmy0TnzmwXT7r47bgcHkc1HdeH7Ky8Q6B4cui0+gPHdSJaXRDRyShlaOIrwGVFLlUIIAUf3a7gWlst4btbeIXJjERmCDeUByF3dcZ5xTNQ02x1azNrqtlb3tuxBMNzEsiEjodrAigDgRf2XhmPxVDBambRILm3t7azhk2RJPIAHiB6Im5lLDoNzcdRWfE114f8VavbaTpmk6PONAmuDYaRdeahlUjy3dPKjCtgkA4OR34r0xNI02PSjpcen2q6eUMZtFhURbT1XZjGPbFMsND0nStn9l6XZWXlqyp9nt0j2qxyQMAYBIBPqaAPPW07w7Z6t4Dn06C0bUr24Ez3YRWuLhTbyFneTG5ssRyTya9QrPtPD+jWDlrHSLG2Yy+eTDbIhMmCN/A+9gkZ68mtCgAooooAKKKKACiiigAooooAKKKKACiiigArifiBaRX+ueD7S4MnkzaqyyCORkLL9nlOMqQcHGCO4yK7aoZrS2uZYJbi3ilkt33wvIgYxNgjcpPQ4JGR2JoA5nULDRfAug6xqVpaPFZTIm/T7QrDEH+4CgXAQtkbmz2zWDoMJ0n4p2lhDpWjaGLjS5pLix0i78xZMOmx5E8qMAjLANznJ54r0eeCK5t5ILmJJYZFKvHIoZWU9QQeoqlY+H9G0wINN0mxtAgYILe2SPaGxuAwOM4GfXAoA53w/ptjpXxM1+HTLK3s4nsLSRo7eJY1Zi02WIAHJ9at6//AMjz4V/66XX/AKKq7beDPC9ndx3Vp4b0iC4jbek0VjErq3qGC5Bpbzwd4Z1C8kur/wAOaTdXEpzJNPYxO7n1LFcmgDn9T0ex1r4tJBqsAurddG3G3lJMUh87jen3Xx1AYEA89abqehWel3fh7w+zyNoFzeTmS3nbMbMVLx2+BgeXnOEOR8oHNdoljaR3C3EdrCsyx+SsixgMEznbnrt9ulF7Y2mpWb2mo2sN3bSffhnjDo3OeVPBoA4CS70/wlqPilLK1I0O1tLctZWjeXHHcuWBRcYEeQULYwBnPeqmnJNonxEjtLDSdG0WWbR7iaSx0i78xZWVk8t5I/KjAIJYA85yRnivRbbR9Ms9MOm2mnWkFiwZTaxQKsRDfeGwDHOTnjmo7DQNH0rZ/Zek2Nl5YYJ9ntkj27sbsYAxnaM+uB6UAeaiz0JdC8Fan5FrLrmo31tLJevGrXMzdZCXxuwCcdcDgegr1qs+Hw/o1tPLNb6RYxSzSiaWRLZFaSQHIdiBywJJyeea0KACiiigAooooAKKKKACiiigAooooAKKKKACuc8QeN9N8OXkltewXUjxWwupGhRSqRbtrOSWHC9T35GMniujrhPGvhzVdXudabT7XzlutE+yQnzEXdL5u7byRjjueKANSHx7pstvcs1rfRzw3CW6WjRDzrh5F3R7FDHAZefmK4AO7bg1Zt/F9ifty6rBc6PPYQ/aJ4L0JuEPP7wGNnVhwRwSQRggcVzE3hbWIvE93rkViJ2tb62ureDzUBuVFsYpApJwrDccbsAkdcHNW9U8Oal4uk1O8urRtJMunfYrSC6kR3Lb/MLSCNmULkKAAxON3TigDbs/F0M+o2tpe6ZqGmfbs/YpbxIwtyQN2BtdirbQTtcKcA8ZBFUoPiHp9xAl1Fp2pnT/ALUbOW+MKCOGXzPLwQX3EbsDcqsozyRg4a8Gr+I9S0b7do0+kw6ZcC6mknnifzXCMqrH5bsSMtklgvAHHJxS/wCEc1X/AIVr/ZX2X/Tf7Q87yvMT7n2vzM5zj7nPX260AX/FsBt9a0G/t7q9iml1KG3kSO9lWJ4yGJBiDbD9SuasePL0WfhW7MsWsC2MZae70eaKKa2VcEsC7qf++QT7VV8YHVbm/wBLj07w9f30dlfxXck8MtsqMqhsqoeVW3c9wB70/wAaNqmqeCbuw07QL6e61G0ePyxLbr9nYjgSFpQO/wDAW6UAbOo6xbaJoqXlz50qnZHFGg3SzOxAVR23EkdSB6kCuZ1XxlLe6V4k06PStV0m/wBP0x7hpJ3hGzcjbCpjlYk5U8jgbTyDUHjK4uL7wnpdvPY3+nXcupW6RW4aA3TMh3ZiYM8at8pOXIGAc4zUAQ3Fvr+jy2Ws/wDCRappcjRyas1ruuEUFFVTA3lqFL9CF+9nmgDe0HxdFeJpltPY6hD9tt91rd3KKqXTKgLAAtvBxk/Oq5wSM1R03xbrU/i7V7OXw5q0kEAg8uEPZgwblOSx87kHrwW6dulX7nSL6TUPCciQZTT2c3R3r+7zAUHfn5jjjNMaLVNH8bajfQaPcalZalDABJaywhoXTcpDLI6cEEEFc9+OlAHVUUUUAFFFFABRRRQAUUUUAFFFFABRRRQAVz/iLxlY+G7pLa7tru4me2lulW3RT+7jxvPzMMYDZ/D1wD0FcZ4x0DUtV1SSawtvNjbQ720B8xV/eyFNi8kddp56DuaALcHj/SJo7x2ivIfs4hMavEC1yJciIxqCSdxGAGAPcgDmrdn4rtpbue01Ozu9GuoYDc+VfeX88I+86tG7qQD1Gcj05Fci3g/Whqh1BLNWezt9NkhieVMTyQBxJHnPBw3BPGcc4zWpqWg3/jO+uJ7+xn0WBdMuLGFLiSN5XebblyI3dQoCjHzZJJ4GBkA1LXxnbT3NmLjTdRsrXUH2Wd7cxosU7EZUYDl03AEjeq56dcCq7/ECwCXcyabqclpYXT217drEgjt2VtpJy4LL3ygbA64PFVWtNb1620jTL/RJNMSxuIZ7q5a4iaN/KOQIdjFzuYD76phc9+Kjn8O6q/w/8R6atrm7vby6kt4/MX51eTcpznAyPUigC347iMNrp2pWt1ewXCahaQjyLyWONkedQwaNWCNkEjkGtLxhdNa+GLwi31SSN4XEs2lSxRz267STIrSOoBGOMZOe1ZnjdNVu7C0sdM0G9vzHdW1y00MtuqARyqzL88qtuwvpjkc1d8RXWo3nhG4itPD+oS3N9byRfZxLbBoCVIBcmULj/dLUAWhq9lpHhGDUrma5ktkto2V5fnmk3ABQcdXJIH1NZTeMXvLy+0eTQ9W0y8j097rzLloNqrggEGOViTkdgccZxxWR4klupPhZDYX+m3mm3Pm2lokUjQvLKwZOYSjuobg7S+ACMnA5qXTm8rVrqz1O113+2tUsZI7afVmtD5kcYyY1+zNsXlsksATnqcAAAs+D/GaXWg+Hory01LbfW8cUWpXKqI7iYR5I5bzMna2GKgNjgnIykXi7W/8AhOtQsP8AhHNWmtobOF0t0ezDKxeQGTJmHDBRgZyMdB3lTQdSGgeDLY2373TJoGu18xf3QWFlbnPPJA4zVi+g1PSvHEusWekXGq2t5Yx27raywrJE8bswJEroCpDnoScjpQB1KklQSpUkdD1FLSKSVBKlSR0PUUtABRRRQAUUUUAFFFFABRRRQAUUUUAFYPiHxdZeHLmK3uba7uZpoJbhEtkU5WPBf7zADAOefQ98A71ch4t0PUdT1qOext/NiGkXtsW3qP3knl7F5PfaeegxzQBPa/EDRrmK+lkW6torOGK4DyxczxyEhGjVSWO4qQAQCeOORVuz8VQzagLHUtOvdHuJIWnhW+EeJkX7xVo3cAjIJDEHBziuNPgjWp5pna1jRotL0wQCWVdsk9tIztGcEkDoN2Mc8ZxW5f6VqPjHULd7/TLnRbW1trhMXMsTySSSps4ETuNoBJ5IJOOKAL8HjezlktJJdP1C3069kWK11KaNBDMzfc4DmRQ3Yuig8c8jMV14+sreTVFi0zU7pNIlMd/LDEmyABQ27LON4wc4Tc3HTkZzm07W9W0PS/Dl5o0lilnLbm5v/PiMLrAyt+6CuZMsVGNyrgE5OQM2H0HUjoHjO2Ft+91OadrRfMX96GhVV5zxyCOcUAO8dqDo9jq1leXsMy3losbW95LEjo86AhkVgrZBI+YHrW9r9xLb6LcGG0vrkujIwsJI0mjBBy6mR1AI+ufaub8V2+rzeGdP0rT9BvL6WN7SaSSGa3VE8qRGZfnlU5wpxgEcjmt6/wBRvm0AyxaBqElxOrIbNZLcSRZBGWJlCY+jE80AVtJ1jT9P+Htlq0t1ey2Edkkvn3p824ddowX253OeOnU1FZ+MWvNeTRp9A1bT7mW2a5V7o2+wRjjOUlY5yQMAEjIziuYvxeWnwS/sjWNMudMuIba3sv3rxOZnLKuIjG74YnhS2MEgnjNaWizLY+JYI9btvEH9p31u9vZ3OrtaMNqDe0a/ZmwCepLDJx17UAN8FeNN/hjRF1G21OVbgrbNqk4Xy2nJICks3mHJGN20rnvU/wDwlmtL48u9PHh3VZrWKySRLdHswdxkceZkzD5SAAATnj7opkHh3VU+H/hzTWtcXdleWslxH5i/IqSbmOc4OB6E1o6lDqemeNv7ZstJn1W2uLAWsiWssSyRMrlgcSugKkMehzx0oA6dGLRqzKUJGSrYyPbjilpEYtGrMpQkZKtjI9uOKWgAooooAKKKKACiiigAooooAKKKKACq+oahaaVp817qE6W9tCu6SRzwB/X6d6sVxHxOh1WTQ4TZ3llFa/bbRWims2kcv9oTB3CVRtzjK7ecHkZ4AOp0vV7bV4XltI7xFRtp+1WU1sT9BKqkj3HFXq5TV7/XtPi0vTZL60e/1W9+zi8trMxrBGI2diEeR8vhCASSMkZU4wc7VPEWq+EbjVLS4u31kR6d9ttJbmNEkD7xHscxqilclSMAHr14oA7yoorqCaaaGGeOSWAhZURwWjJGQGHbg55rk7mXW9A1LR/tetzalDqlx9kuI5LeJPIdkZleHYgIAK4w5fg9eOaHhvRL/wD4TDxJ/wAVPqv7m7g3/urT9/8AuUPzfuOOOPl28e/NAHbQ6ja3GoXVjDLuubQIZk2kbN4yvOMHIHarVcKtjqd/8QfEqafq8mlosNqTJBDG8jP5bYH7xWUL68ZPHIxy6LxSdQ8JaPPqGq3Wl314r7k0uy+0zzMhIZkTy5MJxknYcZHI7gHR+I7TTLrSCdZtrieCF1kX7JHM80bg8MnkjzAR6rzjPbNUvDVp4fSxbXNEFzci4jIN1dPcTzlFJ+QecTIACD8nr2zUfgXWrvWdHu/t0sk8lney2yzy2xt5JUXBVnjIXa2DyMDp0HSk+Hf/ACI1n/10m/8ARr0Aauj6/p+vLcHTnnLWsnlTJcWssDxttDYKyKp6EHp3rSrlvCv/ACNHi7/sJR/+k8VdTQAUUUUAFFFFABRRRQAUUUUAFFFFABRRRQAVDd3dvYWc13ezRwW8KF5ZZG2qijkkmpq4z4oQ6lL4KvjZXdnFbCNRNFPaNKz/ADrjawkUL+Ktn2oA6LSNcs9biaSxS8CKAd1zYzW4YHoV8xF3fhmtGuU1S/1/R9JtYZ7ywuL7UL2K0gngsmiSAN1Yo0r7iACRyBnGRVHUte1LwZqM8N9fza1bNpdxfRtcxxpLG8O3K5jRFKkMOoyCOpzigDuaiS6gkuZLeOeNp4grSRK4LIDnBI6jODj6Vx091r2h2+j6pfay98t9cwwXdk1tGsUfnHAMO1d42sR99nyM9+aq6ZoeoN8RNeQeKNWRkt7RmdYrTMgPmYU5gxgY4wAeeSaAO2TUrSTVptNSXN3DEk0ke0/KjEhTnGOSp79qtVw89lf3vxT1KKx1OTTVGlWxlmhijeU/vJdoXerKB1zlT2xjrSWviiW68IWzatq0+nXrXk1mZdPtBPPctE7KWjjCSdduT8jADPTqADp9fs9OvdFmj1m2kubVcSFYY5HkBByGQRjfuB5BXkdqzfC1j4duVOtaILq5kO+3+0ahLcSzR7WIZB9oJdBuHIGMkVD4G1261dNWtryee5Gn3vkRXF1am2mlQorjzIyiYYbiOFAIAOKX4f8A/IAvf+wre/8ApQ9AHU0UUUAFFFFABRRRQAUUUUAFFFFABRRRQAUUUUAFRXNzBZ2stzdypDBCpeSSRsKijkknsKlrjvihFqUngXUzY3dpDbC2bz457VpWkGRjawkUL+KtQB0Gka9Za4jPp63mxQGD3FjNbq4PQqZEUMPpmtGuT1XUtd8PeFmmubnT7y8mngtrVobJ4Y4jI6oC6mVi2N2eCvTFVtQ1TVPB+qWy32qXGtWd3bXDkXEMSSRSRJv+Uxoo2kZGGBIOOaAO1qIXUBu2tRPGbhUEjQhxvCk4DY64yCM+1cTNqOv6Voel+I7vV2uRdzW4udNNvGIESZlXEZVfMDLuHLO2cHjkYiXRL+T4pX6J4n1WFjpcTh0itCQplkwnMBG0duM+pNAHbLqVo2rPpqy5u44VnaPaeEJKg5xjqDxnNWq4e6sr+7+KFxBZapLYAaPD5txFFG0zYlkwBvUoMnqdp9sdQ6y8TSy+Dt+s6o9jdpfS6f8AabS2E01w0bsgMUYVgXbaCQEYD5uO4AOn1y0sL3RbmHV7Zrm02bpI443dzjkFQgLbgRkbec9Oax/C9h4cu5G1fRxe3M8LPbedqUt1JLAR99FFwS0fbOAM8ZzioPBeuXeo6jrGn3N1d3sVjJEYLi+sjazsrrkq6FE6EHBCjI9etT+CP9Trn/YZuf5igDp6KKKACiiigAooooAKKKKACiiigAooooAKKKKACqGs6Pb65YLaXbyJGs8U4MRAO6Nw4HIPGVGfar9UTq8A8QLo+yT7Q1qboNgbNobbjOc5z7UAN1nRrfW7NIZ5JYJIZFmguIGAkgkHRlJBGeSMEEEEggiqdv4TshFfDVJ7jV5r+H7PcT3hTc0QzhAI1VVHJPAByckmrFr4hsLm6voGk+ztZXYtHadlUSSFFcBeeeGHoeDxVjTdY0zWYXl0fUbS/jjbY72s6yhW64JUnB9qAM2w8Kx2t9bXV7quoao1mCLRL1o9tuSNpI2IpZtvGXLHrzycvn8NBtel1aw1W/06W4EYuYrfymjn2dNwkjbBxxlSvFU5fGmnz+LdL0bR9S02+a4eZbuOGdZJIdiZHCt8vPByK2G13SV1caU2qWS6iwyLM3CecRjP3M7unPSgDOvvCYu9Xu7+21nUtPN7GkdzDamHbKFBA5eNmU4OMqw/A80lz4MsWk0+TSbq70abToGtoJLExnETYyhEiOpGVBzjOR161pX2vaPpYkOp6rY2Yi2+Z9ouUj2bs7c5IxnBx64NOu9Z0zT9OXUL/UbS2snxtuZp1SNs9MMTjntQBn2XhaPS9Mu7TS9V1G1a6uWuXud6TShmxkAyowIOO4J96TQfC7+H9NksbbXNSnhZWEXnrbkwEkkspWIZOTn5tw9qXXfF+kaJ4ZfWn1CxkhaFpLXN2irdMFJCo3IJOO2an0PxPo/iKBW0nU7G7lEavLDbXSStFkdG2njnjmgCpo3hOTRtWub5fEGqXbXcnm3EVwttslcIEBOyFSMBR0IHFdDWfp+v6Pq1zNb6Vq1jezwf62K2uUkaPnHzBSSOeOaR/EOipdw2r6vYLcXDFIYTcoHkYHaQq5ySCCCB34oA0aKy9b8RaVoFvv1XVLGxkdGMK3dwkfmEDtuIz26etVNI8T2z+CdM13xBd2enLd20UkkksoiiV3XOAWP5DNAG/RWBrXiRbXSNO1DSJrW7gvL6CATK3mRskjhSylTgn0PStLT9Y03WYZX0bUrO+ETbHe2mWVUb0baevtQBdornvDmp6rc6xrOm6zNZzvp7xBJbS2eEMHTdyrSP0+taUuu6RBq0elz6pZR6hKAY7R7hBM+emEJyeh7dqAL9FFFABRRRQAUUUUAFUdZ0mDXNHn027eRIZwAzREBhgg8ZBHb0q9UUlzBFPFDLPGks2RFGzgNJgZO0d8DnigCtq+kW2taa1ldmRV3K8ckTbXidTlXU9iCAfT1yKpWfhe3huLi51O8utYuZ4TbtNfeX8sR6xhY0RQCeScZPc8DGk2p2KGUNe26mGRYZAZV+R2xtU88MdwwOpyPWo9P1nTNWaYaVqNpemBtkwtp1k8tvRtpODx0NAGVY+DoLSazNxqmpX9tYNus7W6eMx25AwpBVA7lQcAuzevXmp7/wyt1rn9rWWq3+mXbwrBMbTymWZFJKhlkjccZOCMHk1R1PxrYReJNJ0fS9S026urm9a3u7dZ1eWFRG7E7VbKncoHI71tT67pFtqsWmXOqWUOoTAGO0kuEWV89MITk9D27UAUdQ8L/bNafVLTWdR0y5lt1t5jaCEiRFLEZ8yN8H5jyuOtRTeCtPFrpkemXF1pUul7xbXFqytIA4w4bzFcNu6ksCc85rUvtb0rSxIdT1OzsxEqvIbi4WPYrHCk5IwCeAe5pZdZ0uDSV1SbUrSPT2UMLt51ERU9DvzjBz60AZ2n+FI9Kt9SWw1XUo7jUpxPLdPIksiuFVSV3oygEL0IIGeABgBfDnhc+HPNSLWtRvYZXeUw3SwbRI7bmYFIlbJJPGcc9KmvfFOi2WgHWG1WwNkynyZzdII5mAPyq+cEnBHGah8M+MNH8UWFtJp+o2Ml3JbrNLZwXaSyQZAyGA54JxkgUAbtFZ9pr+jX+oS2Fjq1jc3kOfNtoblHkjwcHKg5GDxzSXHiLRbSeOC71iwglllMMcct0is8gIBQAnlskcdeRQBo0VR1XXNK0OFJNZ1Oz09JCRG13cLEHI7AsRmqnhLWZfEHhWx1S4EQkuULHyc7PvEDGSew9aANmiiigAooooAKKKKACiiigAooooAKo61pMGu6LdaZdvIkN0mx2iIDAe2QR+lXqiluoIZoYZp445ZyViR3AaQgZIUd+BnigCDU9KtdX0qXT75WeCVQDtYqykHIYEdCCAQfUVQsfDEUF79s1LUb3WLhYWgjkvvK/dI2NwCxoi84GSQTxjOK0n1KxjE5kvLdBbELPulUeUTjAbn5c5GM+oqOz1nS9Ruri20/UrS6uLU7Z4oJ1d4TkjDAHK8g9fSgDJtPBdtbSWqSalqF1YWTiS00+d4zDAw+5ghA7bewdmA47gEWdU8NrqGrRana6nfaXexwmAzWZiPmRk52ssiOpweQcZ96paz400+z1nTtK07UtNuL+fUEtri089WljQgljsDZBGB1FbF5ruk6ffQWV/qlla3dxjyYJ7hEklycDapOTzxxQBQ1DwubzVhqVrrWpaddm2W2kktRAfNQEkZEkTAHJPK460y48F6a+m6faWMtzpz6bMZ7W5tnUyo5BDMS4YOW3NncDnOetal9rOl6YHOpalaWYjQSP9onWPapO0McngZ4z6046tpo0n+1DqFqNP2eZ9rMy+Vt/vb84x75oAzLHwqmnPqM1tq2pG81FYxNdyPHI6sgwGUMhRc56bdo7AUaB4XfQLieRNc1K9juJHmkhult9pkYgl8pErZ46Zx7VZk8UaFHop1cazp7WGSouvtaeUzf3d+cZzxiqXhTxto3ivTrSSz1Cx+3TwCaSwivEllh6ZBA54zjOBQB0VFZ8Ov6Pcas+lwatYy6hHnfaJcoZlx1ygORj6Ul14h0WymSK81ewt5JJTCiS3KKWkGPkAJ5bkcdeRQBo0VT1LV9N0a3WfWNQtbCFm2LJdTrEpb0yxAzWf4P15/Enh/wDtFzAwa5njja3OUdElZVYHJzlQDnODQBuUUUUAFFFFABRRRQAUUUUAFFFFABXIaxqFpofxFtdR1m4isbCbTHt1u7hxHF5gkDbC54BI5APXBx0rr6KAPKr21t9Xt57qaFbjTNU8VW0kBdcpcRhEXcPVSVOD0I56Gr/ieG6fXfGEemI5uH8PwbVhHzN88wIGO+OBXo1FAHn661pGqeK/CMPh2WO4tbdJwJLYAwxfucCMkcBgB93qB1xkZ5/TUe40P/hH9Y8WaBpV81+ZJbW6sil55/nbw6s1wNzNxtYJggjFewUUAcXplnbSfGLXrqWCN7iLTrRElZAWQEybgD2zgZ9cUniLSdI0O30aS01q18ONpkkjWcl8oktjv++jb2XkgnGHUjnHANdrRQBxVrd33iX4W6sZLO3W6nguokayVvJuzhgJY8jJV85HXPqetWLHxbpVz4Hln0eWDWbmy04SS6dBKrS5CfcdOSpJBGCPWutooA8ssNbfWfGvhK4/tnR9S/1wxpNnIogDQEmNpfNdT0HyEKeM4pos7aL4U+Jp44I1ln1a4kkcLy7LdYUk+oAGPpXqtFAHAHVrLRvEvir+15ANQuki+wxYzNcwCHhIl6vh/MyB0JJNUbLxFJofhLwZa+fpulrcaeM6rqqboYSsa/uxh0+duv3hwp616bRQB40Gt5/CGptqstvJZf8ACVQvcSG3a2g2Foy7FHYlUOSTkkHOehrstMu7DUvH9xrOi3EMulQaUILm9gdTA7h9yqHHBKLuzjpu7V2dFAHC+F/E+g3nj7xDHaa3p08l3Jb/AGdIruNjNti52AH5sY5x0rmYEkl0nU/D+ueK9A0a7ur+Z5YL6yK3RcykxyozXChuNhVguBgDtXsFFACICsaqzbiAAW9aWiigAooooAKKKKACuS8W3dvpnibw1qOozx2tjDNOktzMwSOMtFhdzHhckYGe9dbRQB5DqM9pruk+K2ETSWd14hsExNGVEqH7OCQD1Ujoe4ORxXSeIILgeL76LSE8u6bw1KkAiGDuEmEA+hPFd1RQB5lFrGj3j+BLHQnSVLa7USrAMrbMLaQbJP7j5J+U88Gs1Vkk0/XNB1zxVoGi3N7fztJFqFkRctukPlSo7XChvlCbWC4GAOor1+igDiobKCT4yebcxxzz22hR+VM6AspMrAkehIp/iXRNH0vS7F4dVg8O/Y75r23ubkB7cSsW3Bw5Aw29sAMpyfl6V2VFAHJeHNSvPEHhfVjcQ2bSmSaGO8sARBfDb8sqZycchTywypwSKi8G+JNNl8DWdrZXMN3qWn6con02OVftCPGu1kaP7yncMciuyooA8jh1+TXNV8GzHU9GmK36n7FplnIHsd0L/unl8whSBxtKIWwcAYIq9c2Vsngv4j3KwRiea5uhJJt+ZtsY25Pt2r06igDgrbVbHRvGd7Nrk6xTXGm2y6cJOXnUBt8cQ6u28jKrknK+1a3w4Yt8PdKZkaMmNiUccr87cH3rp6KACiiigAooooAKKKKACiiigAooooAK5LxjdQabr3hjUdQmS2sre8lE1zK22OLdC4Xcx4UE8ZPcgd662igDybU7y21rw/8AEGaBXe1muLdVZ0KCVfLjG5c9VPZuhHI45rodatTbeNNJg0mNYJF0O9jt1jUKFx5WwD2BruKKAPLLbWNKm0PwVpmlsJZ7fULcXcUQybWQK24Tf3HLZ4bknJ7E1HcyNBe+KNM13xJ4f0b+0bqTcmrWR8yaEqFjZHadFZQBgYB2kHPNer0UAcJZ6bCvxT04XRjvp7Lw+ojunQElvM2lx1wSM9+9XvEuhaPZeHRGmoR6BHHf/boruUB4Y7gsX3OHO3aWJ4yvJGCDiutooA5TwlrF1rtpq3n/ANn3XlzGOLUtNVhBejbwRktyv3ThmGRjPGKr/D3XNN/4RDTtHS9t21axtPLuNPEqi4jaP5WBjzuHPqO49a7OigDx648Sya9b+H5DfaREy6xbsdJtLNzc6efMK7JZBJhDjIO6NdxyBWvJYWv/AAj/AMSrj7PGZp5rhJHK5LqtuuAfYZPHvXpVFAHAwalZaR4ys73xBcR28Umhwx2Es5xuk3EyohPV2/d/KOTgYrT+G7mXwiZDHJEZL+7fZIu1lzcOcEdj7V1dFABRRRQAUUUUAFFFFABRRRQAUUUUAFYV94qtdK1XUYNWUWtnY2Ud412zFgVZmUjaBngqPX71btctr3he61fxbp98stuNOWBob6GTcXkAYPGF7feHOfwoAvR69PeXuq2umWUdzJYmJYy1xsWVnTd8x2naACMkBjzwO1M0nW5tT1PUND1vTYbW8t4kkeOKY3EM0Um4AhmRCeVYFSv55rmk8B61/wAIvPZ3VzZXdy+oxzyQvI6w3lvGqokUrbSRlUBPDDPYir/hrwle6Br2q6pBpuh2CXdnFHDYacDEiyIXJ3uEG7O4fOEB7beMkAk8D2FnpmueK7TTbSCzto9STZDbxiNFzbxHhRwKyvCfiJ7XTl0fR7NdS1OXUbySSIzeXHbRfaZP3kjhW2g9FGCWOccAkbPhvTvEdh4g1W61Ox0tLbU7gTsbfUJJHixEqABTAobOzOcjr3xWbp3gPUNBZdU0N7KHWDeTvdJvZYb6CSVnCyELneoYbW2nByOQaAN298Q6g2qXVhoGlQ38liitdNPdmBVZhlUQhH3NjnnaBkc88RL4wOoxaanh2xF5d6hbm6WK6mMCQxqQGMjBXIO47QApyQewzWZq3gcS+JbzVo/D3h7XBfqhkj1UbHgdV25R/KkypAHGBgjOTnAvSaBqVhqWm6l4fsdKgeGzazm08zNFDGpYODG6xnowPGwZB7YoAT4fNcPp+rtexRxTnWLnzEikMiqcjgMVUke+BXWVheE9EvtDsb2LU7qK6nub6W682JNoIcg429vpk/U1u0AFFFFABRRRQAUUUUAFFFFABRRRQAUUUUAFFFFABWLqHiSDStZktdQQQ2senvfNdFicKjAMNoGeAQcjPXpW1XMeJvDV5rPiDR7y1mgS2ty8d8ku7dJCzI+EAGMlowDnsTQBbg8Rm+1O8tNMtVuhBaQXMUgm2iUyltoOR8oAUHPJwemeCzS9dvbjXZ9E1zTIbO7FuLmM21ybiKWMttPzMiEMD1BXGCOfTnP+ED1keH9Ysvtto0lxcQi2Xc6rLaREbYJTjI3DcpK5GD0PIq74d8IXOkeKJdYi0rQtKiksTbiy0tSo378gs/lruyB12gjpg9aAJfC2m2OleOPE1tpdlb2UG21byraJY1yUbJwoAyaztE8Qtp0mp6dplp/aOrXWtXJjtfN8tUjDDdLI+DsQeuCScAA1qaNYeJ7bxZf6lf6fpMdvqAhWQQalLI8QjUjIBgUNnPquKoL4EvrC8u9a0aW0ttcbUZbhXywjuoHI/czELnoOCAdpwRnkUAd2hYxqZAFfHzBTkA/XjNLTYy5iUyqqyFRuVW3AHuAcDI98CnUAFFFFABRRRQAUUUUAFFFFABRRRQAUUUUAFFFFABRRRQAVjah4ih0vWxZ3sfl232CW9a6LZ2iNlDDaBnowOf0rZrmfFPhu81vWNHubOW3jht3eO9WbOXgfaSqgDBJKKOeME0AWrXxLHqGqz2umwC6jjsIb2OVJQDL5hbauCBjhc5J79KjsPEF//wAJFHouvaZBZ3FxbvcW8lpdtcRuqEBwS0aFWG5eMEEHrxWFH4H1hNF8RWa6hBFJe7YbCSNnBW3QkrHIeozuZSVzxz1p+heCrjTfGFrrMWj+H9Hghs5rd7bTFO52YoVZpPLTcPlPBUEerZ4ALHh/TbHSviZr8OmWVvZxPYWkjR28SxqzFpssQAOT61n2PiEaP4g8S2lnbHUNVvNXC2tkj7S+LeHc7Ng7EXu2D2ABJAOpp2n+KIvGl3q93p+kJb3kENu6xalK7xrGXO4A24DE7+mR061SuPAV0NY1bXtNmtrTW5L0XFlcjPzx+WimGbAyUYqeOccMOaAO4gMrW8ZuUSOYqN6RuXVW7gMQMj3wPpT6jt2na2jN2kcc5UeYkTl1Vu4DEAke+B9KkoAKKKKACiiigAooooAKKKKACiiigAooooAKKKKACiiigAooooAKKKKACiiigAooooAKKKKACiiigAooooAKKKKACiiigAooooAKKKKACiiigAooooAKKKKACiiigAooooAKKKKACiiigAooooAKKKKACiiigAooooAKKKKACiiigAooooAKKKKACiiigAooooAKKKKACiiigAooooAKKKKACiiigAooooAKKKKACiiigD//2Q==)\n"
      ]
    },
    {
      "cell_type": "markdown",
      "metadata": {
        "id": "ino3aJZtabBf"
      },
      "source": [
        ""
      ]
    },
    {
      "cell_type": "markdown",
      "metadata": {
        "id": "ST2aWEwGtyur"
      },
      "source": [
        "### **CONCLUSION:**\n",
        "###Here we stuided Morphology and its types INFLECTION AND DERIVATIONAL MORPHEME "
      ]
    }
  ]
}