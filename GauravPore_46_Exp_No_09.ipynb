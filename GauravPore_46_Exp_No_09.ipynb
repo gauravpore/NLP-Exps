{
  "nbformat": 4,
  "nbformat_minor": 0,
  "metadata": {
    "colab": {
      "name": "SanketChavan_05_Exp_No_09.ipynb",
      "provenance": [],
      "collapsed_sections": []
    },
    "kernelspec": {
      "name": "python3",
      "display_name": "Python 3"
    },
    "language_info": {
      "name": "python"
    }
  },
  "cells": [
    {
      "cell_type": "markdown",
      "metadata": {
        "id": "8cqm15CZ2-vF"
      },
      "source": [
        "AIM : WRITE A PROGRAM TO GENERATE NAME ENTITY (NER) from English Test."
      ]
    },
    {
      "cell_type": "markdown",
      "metadata": {
        "id": "m86j66OT3FER"
      },
      "source": [
        "Theory : Named Entity Recognition (NER) is a standard NLP problem which involves spotting named entities (people, places, organizations etc.) from a chunk of text, and classifying them into a predefined set of categories. Some of the practical applications of NER include:\n",
        "\n",
        "Scanning news articles for the people, organizations and locations reported.\n",
        "\n",
        "Providing concise features for search optimization: instead of searching the entire content, one may simply search for the major entities involved.\n",
        "\n",
        "Quickly retrieving geographical locations talked about in Twitter posts.\n",
        "\n",
        "NER with spaCy : spaCy is regarded as the fastest NLP framework in Python, with single optimized functions for each of the NLP tasks it implements. Being easy to learn and use, one can easily perform simple tasks using a few lines of code."
      ]
    },
    {
      "cell_type": "markdown",
      "metadata": {
        "id": "Duqbv7FD3iEl"
      },
      "source": [
        "EXECUTION :"
      ]
    },
    {
      "cell_type": "code",
      "metadata": {
        "colab": {
          "base_uri": "https://localhost:8080/"
        },
        "id": "0WmCmj6_3qeA",
        "outputId": "ae42fefa-a665-4577-897e-7e3a43c97daf"
      },
      "source": [
        "import spacy.cli\n",
        "spacy.cli.download(\"en_core_web_sm\")"
      ],
      "execution_count": null,
      "outputs": [
        {
          "output_type": "stream",
          "text": [
            "\u001b[38;5;2m✔ Download and installation successful\u001b[0m\n",
            "You can now load the model via spacy.load('en_core_web_sm')\n"
          ],
          "name": "stdout"
        }
      ]
    },
    {
      "cell_type": "markdown",
      "metadata": {
        "id": "zfxNry4i312c"
      },
      "source": [
        "OUTPUT :"
      ]
    },
    {
      "cell_type": "code",
      "metadata": {
        "colab": {
          "base_uri": "https://localhost:8080/"
        },
        "id": "V3P18bNm35ZL",
        "outputId": "ef84803e-51b8-4245-e363-6bd717ada977"
      },
      "source": [
        "import spacy\n",
        "  \n",
        "nlp = spacy.load('en_core_web_sm')\n",
        "  \n",
        "sentence = \"Apple is looking at buying U.K. startup for $1 billion\"\n",
        "  \n",
        "doc = nlp(sentence)\n",
        "  \n",
        "for ent in doc.ents:\n",
        "    print(ent.text, ent.start_char, ent.end_char, ent.label_)"
      ],
      "execution_count": null,
      "outputs": [
        {
          "output_type": "stream",
          "text": [
            "Apple 0 5 ORG\n",
            "U.K. 27 31 GPE\n",
            "$1 billion 44 54 MONEY\n"
          ],
          "name": "stdout"
        }
      ]
    },
    {
      "cell_type": "markdown",
      "metadata": {
        "id": "Jp0Yni2-4Ak8"
      },
      "source": [
        "In the output, the first column specifies the entity, the next two columns the start and end characters within the sentence/document, and the final column specifies the category. Further, it is interesting to note that spaCy’s NER model uses capitalization as one of the cues to identify named entities. The same example, when tested with a slight modification, produces a different result."
      ]
    },
    {
      "cell_type": "code",
      "metadata": {
        "colab": {
          "base_uri": "https://localhost:8080/"
        },
        "id": "0ZnEQ4Uj4Ehp",
        "outputId": "46427757-aa69-4f1a-ce9b-c18263b4649a"
      },
      "source": [
        "import spacy\n",
        "\n",
        "nlp = spacy.load('en_core_web_sm')\n",
        "\n",
        "sentence = \"apple is looking at buying U.K. startup for $1 billion\"\n",
        "\n",
        "doc = nlp(sentence)\n",
        "\n",
        "for ent in doc.ents:\n",
        "\tprint(ent.text, ent.start_char, ent.end_char, ent.label_)"
      ],
      "execution_count": null,
      "outputs": [
        {
          "output_type": "stream",
          "text": [
            "apple 0 5 ORG\n",
            "U.K. 27 31 GPE\n",
            "$1 billion 44 54 MONEY\n"
          ],
          "name": "stdout"
        }
      ]
    },
    {
      "cell_type": "markdown",
      "metadata": {
        "id": "3_w9zwM54Mv-"
      },
      "source": [
        "The word “apple” no longer shows as a named entity. Therefore, it is important to use NER before the usual normalization or stemming preprocessing steps.\n",
        "\n",
        "spaCy Supports The Following Entity Types :\n",
        "\n",
        "PERSON, NORP (nationalities, religious and political groups), FAC (buildings, airports etc.), ORG (organizations), GPE (countries, cities etc.), LOC (mountain ranges, water bodies etc.), PRODUCT (products), EVENT (event names), WORK_OF_ART (books, song titles), LAW (legal document titles), LANGUAGE (named languages), DATE, TIME, PERCENT, MONEY, QUANTITY, ORDINAL and CARDINAL."
      ]
    },
    {
      "cell_type": "markdown",
      "metadata": {
        "id": "n_DbUrJh4Njf"
      },
      "source": [
        "CONCLUSION :HERE WE STUDIED ABOUT HOW TO GENERATE NAME ENTITY (NER) from English Test"
      ]
    }
  ]
}