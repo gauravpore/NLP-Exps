{
  "nbformat": 4,
  "nbformat_minor": 0,
  "metadata": {
    "colab": {
      "name": "SanketChavan_05_Exp_No_07.ipynb",
      "provenance": [],
      "collapsed_sections": []
    },
    "kernelspec": {
      "name": "python3",
      "display_name": "Python 3"
    },
    "language_info": {
      "name": "python"
    }
  },
  "cells": [
    {
      "cell_type": "markdown",
      "metadata": {
        "id": "SCUOumsb4vZj"
      },
      "source": [
        "AIM : Write a program get word definition, examples, synonyms, antonyms using English Wordnet."
      ]
    },
    {
      "cell_type": "markdown",
      "metadata": {
        "id": "n8lz6dn44you"
      },
      "source": [
        "THEORY : WordNet is a large lexical database of English. Nouns, verbs, adjectives and adverbs are grouped into sets of cognitive synonyms (synsets), each expressing a distinct concept. Synsets are interlinked by means of conceptual-semantic and lexical relations. WordNet’s structure makes it a useful tool for computational linguistics and natural language processing.\n",
        "\n",
        "WordNet superficially resembles a thesaurus, in that it groups words together based on their meanings. However, there are some important distinctions.\n",
        "\n",
        "First, WordNet interlinks not just word forms—strings of letters—but specific senses of words. As a result, words that are found in close proximity to one another in the network are semantically disambiguated.\n",
        "Second, WordNet labels the semantic relations among words, whereas the groupings of words in a thesaurus does not follow any explicit pattern other than meaning similarity."
      ]
    },
    {
      "cell_type": "markdown",
      "metadata": {
        "id": "VVMVv5R942B0"
      },
      "source": [
        "EXECUTION :"
      ]
    },
    {
      "cell_type": "code",
      "metadata": {
        "id": "QCQ5JSbU45ia"
      },
      "source": [
        "import nltk"
      ],
      "execution_count": null,
      "outputs": []
    },
    {
      "cell_type": "code",
      "metadata": {
        "colab": {
          "base_uri": "https://localhost:8080/"
        },
        "id": "3oNnjLxX5A2h",
        "outputId": "99cfa8c2-05fe-45f2-ee7f-3e4aaf9b7119"
      },
      "source": [
        "nltk.download('wordnet')"
      ],
      "execution_count": null,
      "outputs": [
        {
          "output_type": "stream",
          "text": [
            "[nltk_data] Downloading package wordnet to /root/nltk_data...\n",
            "[nltk_data]   Unzipping corpora/wordnet.zip.\n"
          ],
          "name": "stdout"
        },
        {
          "output_type": "execute_result",
          "data": {
            "text/plain": [
              "True"
            ]
          },
          "metadata": {
            "tags": []
          },
          "execution_count": 2
        }
      ]
    },
    {
      "cell_type": "code",
      "metadata": {
        "id": "bwcMulmx5c_d"
      },
      "source": [
        "from nltk.corpus import wordnet"
      ],
      "execution_count": null,
      "outputs": []
    },
    {
      "cell_type": "code",
      "metadata": {
        "id": "qt8LgaQZ5jy_"
      },
      "source": [
        "synset = wordnet.synsets(\"Travel\")"
      ],
      "execution_count": null,
      "outputs": []
    },
    {
      "cell_type": "code",
      "metadata": {
        "colab": {
          "base_uri": "https://localhost:8080/"
        },
        "id": "BzNx9zBE5ow3",
        "outputId": "f700f15e-3604-45a7-9b39-c5cd60e2e12e"
      },
      "source": [
        "print('Word and Type : ' + synset[0].name())"
      ],
      "execution_count": null,
      "outputs": [
        {
          "output_type": "stream",
          "text": [
            "Word and Type : travel.n.01\n"
          ],
          "name": "stdout"
        }
      ]
    },
    {
      "cell_type": "code",
      "metadata": {
        "colab": {
          "base_uri": "https://localhost:8080/"
        },
        "id": "8_EFAVDz5tSQ",
        "outputId": "1199fd91-aba8-4a52-8aac-111ab6308e21"
      },
      "source": [
        "print('Synonym of Travel is: ' + synset[0].lemmas()[0].name())"
      ],
      "execution_count": null,
      "outputs": [
        {
          "output_type": "stream",
          "text": [
            "Synonym of Travel is: travel\n"
          ],
          "name": "stdout"
        }
      ]
    },
    {
      "cell_type": "code",
      "metadata": {
        "colab": {
          "base_uri": "https://localhost:8080/"
        },
        "id": "6DzB3sFw5yAt",
        "outputId": "a42ec2be-4769-4380-c49b-0b554f908aa4"
      },
      "source": [
        "print('The meaning of the word : ' + synset[0].definition())"
      ],
      "execution_count": null,
      "outputs": [
        {
          "output_type": "stream",
          "text": [
            "The meaning of the word : the act of going from one place to another\n"
          ],
          "name": "stdout"
        }
      ]
    },
    {
      "cell_type": "code",
      "metadata": {
        "colab": {
          "base_uri": "https://localhost:8080/"
        },
        "id": "d9oYcmQ45z3C",
        "outputId": "390f3aa6-7a72-4ac5-e528-88a43eb17b31"
      },
      "source": [
        "print('Example of Travel : ' + str(synset[0].examples()))"
      ],
      "execution_count": null,
      "outputs": [
        {
          "output_type": "stream",
          "text": [
            "Example of Travel : ['he enjoyed selling but he hated the travel']\n"
          ],
          "name": "stdout"
        }
      ]
    },
    {
      "cell_type": "code",
      "metadata": {
        "colab": {
          "base_uri": "https://localhost:8080/"
        },
        "id": "EgTNUB9W536c",
        "outputId": "93fd1c8d-a949-42cb-9d22-d3942b7a34fb"
      },
      "source": [
        "import nltk\n",
        "from nltk.corpus import wordnet   #Import wordnet from the NLTK\n",
        "syn = list()\n",
        "ant = list()\n",
        "for synset in wordnet.synsets(\"Worse\"):\n",
        "   for lemma in synset.lemmas():\n",
        "      syn.append(lemma.name())    #add the synonyms\n",
        "      if lemma.antonyms():    #When antonyms are available, add them into the list\n",
        "        ant.append(lemma.antonyms()[0].name()) \n",
        "print('Synonyms: ' + str(syn))\n",
        "print('Antonyms: ' + str(ant))"
      ],
      "execution_count": null,
      "outputs": [
        {
          "output_type": "stream",
          "text": [
            "Synonyms: ['worse', 'worse', 'worse', 'worsened', 'bad', 'bad', 'big', 'bad', 'tough', 'bad', 'spoiled', 'spoilt', 'regretful', 'sorry', 'bad', 'bad', 'uncollectible', 'bad', 'bad', 'bad', 'risky', 'high-risk', 'speculative', 'bad', 'unfit', 'unsound', 'bad', 'bad', 'bad', 'forged', 'bad', 'defective', 'worse']\n",
            "Antonyms: ['better', 'better', 'good', 'unregretful']\n"
          ],
          "name": "stdout"
        }
      ]
    },
    {
      "cell_type": "markdown",
      "metadata": {
        "id": "ew5nXYJJ5914"
      },
      "source": [
        "CONCLUSION :\n",
        "\n",
        "We executed word definition, examples, synonyms, antonyms using English Wordnet."
      ]
    },
    {
      "cell_type": "markdown",
      "metadata": {
        "id": "YyFJHXUi6A5F"
      },
      "source": [
        "OUTPUT :\n",
        "\n",
        "Synonyms: ['worse', 'worse', 'worse', 'worsened', 'bad', 'bad', 'big', 'bad', 'tough', 'bad', 'spoiled', 'spoilt', 'regretful', 'sorry', 'bad', 'bad', 'uncollectible', 'bad', 'bad', 'bad', 'risky', 'high-risk', 'speculative', 'bad', 'unfit', 'unsound', 'bad', 'bad', 'bad', 'forged', 'bad', 'defective', 'worse'] Antonyms: ['better', 'better', 'good', 'unregretful']"
      ]
    }
  ]
}